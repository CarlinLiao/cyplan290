{
 "cells": [
  {
   "cell_type": "code",
   "execution_count": null,
   "metadata": {
    "collapsed": true
   },
   "outputs": [],
   "source": [
    "import numpy as np\n",
    "import matplotlib.pyplot as plt\n",
    "import pandas as pd\n",
    "%matplotlib inline"
   ]
  },
  {
   "cell_type": "code",
   "execution_count": null,
   "metadata": {},
   "outputs": [],
   "source": [
    "path = r'/Users/xyzjayne/Documents/CP290E/Discussion 2'\n",
    "df = pd.read_csv(path+r'/hdi_data.csv')"
   ]
  },
  {
   "cell_type": "code",
   "execution_count": null,
   "metadata": {},
   "outputs": [],
   "source": [
    "# inspect what was read by displaying the first 10 rows\n",
    "df.head(10)"
   ]
  },
  {
   "cell_type": "code",
   "execution_count": null,
   "metadata": {
    "collapsed": true
   },
   "outputs": [],
   "source": [
    "# create a numpy array each column\n",
    "country_name = np.array(df['Country'])\n",
    "gdi = np.array(df['Gender Development Index'])\n",
    "hdi = np.array(df['Human Development Index (HDI)'])"
   ]
  },
  {
   "cell_type": "code",
   "execution_count": null,
   "metadata": {},
   "outputs": [],
   "source": [
    "# Let's only look at HDI\n",
    "plt.figure()\n",
    "plt.plot(hdi,'-',label = 'HDI')\n",
    "plt.show()\n",
    "# why is it plummeting like the US stock market?"
   ]
  },
  {
   "cell_type": "code",
   "execution_count": null,
   "metadata": {
    "collapsed": true
   },
   "outputs": [],
   "source": [
    "# We might want to do a couple more things to make the graph better.\n",
    "# Note that the graph is missing a title and axis labels.\n",
    "# We can change the color and the style of the plot.\n",
    "# We might want to normalize the y-axis; also, hide x-axis ticks because the values don't seem to mean anything."
   ]
  },
  {
   "cell_type": "code",
   "execution_count": null,
   "metadata": {},
   "outputs": [],
   "source": [
    "plt.figure()\n",
    "plt.plot(hdi,'o-', color = 'c' ,label = 'HDI') # change color and style here. What's your favorite color?\n",
    "plt.title('HDI Values') # add a title\n",
    "plt.ylabel('HDI')\n",
    "plt.ylim(ymin = 0, ymax = 1) # normalize the y-axis\n",
    "plt.xticks([]) # hide the x-axis\n",
    "plt.show()"
   ]
  },
  {
   "cell_type": "code",
   "execution_count": null,
   "metadata": {},
   "outputs": [],
   "source": [
    "# Let's try plotting the GDI and HDI values against country names.\n",
    "plt.figure()\n",
    "# how does plt.plot work?\n",
    "plt.plot(country_name,gdi,'-',color = '#7742f4',label = 'GDI')\n",
    "plt.plot(country_name,hdi,'-',color = '#42cbf4',label = 'HDI')\n",
    "plt.legend() # what is this?\n",
    "plt.show()\n",
    "\n",
    "# what's wrong? what can be fixed?\n",
    "\n"
   ]
  },
  {
   "cell_type": "code",
   "execution_count": null,
   "metadata": {},
   "outputs": [],
   "source": [
    "# Now let's take a look at GDI vs. HDI\n",
    "plt.figure()\n",
    "plt.plot(hdi,gdi,'ro')\n",
    "plt.title('GDI vs. HDI')\n",
    "plt.xlabel('HDI')\n",
    "plt.ylabel('GDI')\n",
    "plt.show()"
   ]
  },
  {
   "cell_type": "code",
   "execution_count": null,
   "metadata": {},
   "outputs": [],
   "source": [
    "# Linear regression with numpy is possible. \n",
    "p = np.polyfit(hdi,gdi,1) # degree-1 polynomial is a line\n",
    "print 'GDI goes up by', \"%.4f\" % (0.1*p[0]), 'when HDI goes up by 0.1.'\n",
    "gdi_fit = np.polyval(p,hdi) # evaluate the fitted values\n",
    "plt.figure()\n",
    "plt.plot(hdi,gdi,'o',color = '#42f4e8', label = 'Actual data')\n",
    "plt.plot(hdi,gdi_fit,'--', label = 'Fit')\n",
    "plt.legend()\n",
    "\n",
    "plt.title('GDI vs. HDI')\n",
    "plt.xlabel('HDI')\n",
    "plt.ylabel('GDI')\n",
    "\n",
    "plt.show()"
   ]
  },
  {
   "cell_type": "code",
   "execution_count": null,
   "metadata": {},
   "outputs": [],
   "source": [
    "# Could it be said the other way around? Try and see what happens when you regress HDI against GDI.\n",
    "\n",
    "###############\n",
    "##### YOUR ####\n",
    "##### OWN #####\n",
    "##### CODE ####\n",
    "###############\n"
   ]
  }
 ],
 "metadata": {
  "kernelspec": {
   "display_name": "Python 2",
   "language": "python",
   "name": "python2"
  },
  "language_info": {
   "codemirror_mode": {
    "name": "ipython",
    "version": 2
   },
   "file_extension": ".py",
   "mimetype": "text/x-python",
   "name": "python",
   "nbconvert_exporter": "python",
   "pygments_lexer": "ipython2",
   "version": "2.7.14"
  }
 },
 "nbformat": 4,
 "nbformat_minor": 2
}
