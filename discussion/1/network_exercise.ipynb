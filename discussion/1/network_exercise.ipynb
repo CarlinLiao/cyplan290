{
 "cells": [
  {
   "cell_type": "code",
   "execution_count": null,
   "metadata": {
    "collapsed": true
   },
   "outputs": [],
   "source": [
    "import networkx as nx\n",
    "import numpy as np\n",
    "import matplotlib.pyplot as plt"
   ]
  },
  {
   "cell_type": "code",
   "execution_count": null,
   "metadata": {
    "collapsed": true
   },
   "outputs": [],
   "source": [
    "cities = ['Berlin','Paris']\n",
    "graphs = []\n",
    "for city in cities:\n",
    "    file_path = r'/Users/xyzjayne/Documents/CP290E/Assignment 1/SubwayData/' + city + '.net'\n",
    "    G = nx.read_pajek(file_path)\n",
    "    # keep the largest connected component\n",
    "    G = max(nx.connected_component_subgraphs(G), key=len)\n",
    "    graphs.append(G)"
   ]
  },
  {
   "cell_type": "code",
   "execution_count": null,
   "metadata": {},
   "outputs": [],
   "source": [
    "# basic properties:\n",
    "for city,G in zip(cities,graphs):\n",
    "    print city\n",
    "    print \"Number of nodes:\" , G.number_of_nodes()\n",
    "    print \"Number of edges:\" , G.number_of_edges()\n",
    "    print \"Average degree: \", nx.average_shortest_path_length(G)"
   ]
  },
  {
   "cell_type": "code",
   "execution_count": null,
   "metadata": {},
   "outputs": [],
   "source": [
    "# plot distribution of degree\n",
    "for G in graphs:\n",
    "    degrees = np.array(dict(G.degree()).values())\n",
    "    # histogram\n",
    "    plt.figure()\n",
    "    plt.hist(degrees)\n",
    "    plt.title('Degree distribution: histogram')\n",
    "    plt.show()"
   ]
  },
  {
   "cell_type": "code",
   "execution_count": null,
   "metadata": {},
   "outputs": [],
   "source": [
    "# find the length of the longest shortest path for Berlin\n",
    "# Berlin is the first element in graphs\n",
    "G_Berlin = graphs[0]\n",
    "pl = dict(nx.shortest_path_length(G_Berlin))\n",
    "max_len = 0\n",
    "\n",
    "for source in pl:\n",
    "    for target in pl[source]:\n",
    "        if pl[source][target]>max_len:\n",
    "            max_len = pl[source][target]\n",
    "\n",
    "print 'The longest shortest path length is:',max_len"
   ]
  },
  {
   "cell_type": "code",
   "execution_count": null,
   "metadata": {},
   "outputs": [],
   "source": [
    "# which path has this length?\n",
    "for source in pl:\n",
    "    for target in pl[source]:\n",
    "        if pl[source][target]==max_len:\n",
    "            print source, target"
   ]
  },
  {
   "cell_type": "code",
   "execution_count": null,
   "metadata": {},
   "outputs": [],
   "source": [
    "# print all the stations in this max-length path\n",
    "source, target = 'RathausSpandau', \"Hoenow\"\n",
    "p = nx.shortest_path(G_Berlin)\n",
    "p[source][target]"
   ]
  }
 ],
 "metadata": {
  "kernelspec": {
   "display_name": "Python 2",
   "language": "python",
   "name": "python2"
  },
  "language_info": {
   "codemirror_mode": {
    "name": "ipython",
    "version": 2
   },
   "file_extension": ".py",
   "mimetype": "text/x-python",
   "name": "python",
   "nbconvert_exporter": "python",
   "pygments_lexer": "ipython2",
   "version": "2.7.14"
  }
 },
 "nbformat": 4,
 "nbformat_minor": 2
}
