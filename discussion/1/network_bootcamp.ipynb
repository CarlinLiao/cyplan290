{
 "cells": [
  {
   "cell_type": "code",
   "execution_count": null,
   "metadata": {
    "collapsed": true
   },
   "outputs": [],
   "source": [
    "import networkx as nx\n",
    "import numpy as np\n",
    "import matplotlib.pyplot as plt"
   ]
  },
  {
   "cell_type": "code",
   "execution_count": null,
   "metadata": {
    "collapsed": true
   },
   "outputs": [],
   "source": [
    "# how to create a network from scratch: see discussion 1 note\n",
    "G = nx.Graph()\n",
    "\n",
    "node_list = ['A','B','C','D','E']\n",
    "G.add_nodes_from(node_list)\n",
    "\n",
    "edge_list = [('A','B'),('B','C'),('C','D'),('D','E'),('A','C'),('A','D'),('B','D'),('C','E')]\n",
    "G.add_edges_from(edge_list)"
   ]
  },
  {
   "cell_type": "code",
   "execution_count": null,
   "metadata": {},
   "outputs": [],
   "source": [
    "# visualize and verify that this is the network to be generated\n",
    "plt.figure()\n",
    "nx.draw(G, with_labels=True,font_size = 20)\n",
    "plt.show()"
   ]
  },
  {
   "cell_type": "code",
   "execution_count": null,
   "metadata": {},
   "outputs": [],
   "source": [
    "# some basic properties\n",
    "print \"Nodes: \" , G.nodes()\n",
    "print \"Edges: \" , G.edges()\n",
    "print \"Number of nodes:\" , G.number_of_nodes()\n",
    "print \"Number of edges:\" , G.number_of_edges()"
   ]
  },
  {
   "cell_type": "code",
   "execution_count": null,
   "metadata": {},
   "outputs": [],
   "source": [
    "# Degree distribution and average degree\n",
    "for node in G.nodes:\n",
    "    print \"Degree of \", str(node), \": \", G.degree(node)\n",
    "print \"Average degree: \",np.mean(dict(G.degree()).values())"
   ]
  },
  {
   "cell_type": "code",
   "execution_count": null,
   "metadata": {},
   "outputs": [],
   "source": [
    "# plot distribution of degree\n",
    "degrees = np.array(dict(G.degree()).values())\n",
    "# histogram\n",
    "plt.figure()\n",
    "plt.hist(degrees)\n",
    "plt.title('Degree distribution: histogram')\n",
    "plt.show()"
   ]
  },
  {
   "cell_type": "code",
   "execution_count": null,
   "metadata": {},
   "outputs": [],
   "source": [
    "# Shortest paths, diameter\n",
    "p = nx.shortest_path(G)\n",
    "pl = nx.shortest_path_length(G)\n",
    "print nx.average_shortest_path_length(G)"
   ]
  },
  {
   "cell_type": "code",
   "execution_count": null,
   "metadata": {},
   "outputs": [],
   "source": [
    "# what are the longest shortest path(s)?\n",
    "for source in pl:\n",
    "    # print source[0] # source node\n",
    "    # print source[1] # a dictionary of shortest path lengths to all other nodes\n",
    "    for target in source[1]:\n",
    "        print source[0], 'to', target, 'length', source[1][target]\n",
    "# what is the diameter of this network?"
   ]
  }
 ],
 "metadata": {
  "kernelspec": {
   "display_name": "Python 2",
   "language": "python",
   "name": "python2"
  },
  "language_info": {
   "codemirror_mode": {
    "name": "ipython",
    "version": 2
   },
   "file_extension": ".py",
   "mimetype": "text/x-python",
   "name": "python",
   "nbconvert_exporter": "python",
   "pygments_lexer": "ipython2",
   "version": "2.7.14"
  }
 },
 "nbformat": 4,
 "nbformat_minor": 2
}
