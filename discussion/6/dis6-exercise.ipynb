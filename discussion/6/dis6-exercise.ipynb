{
 "cells": [
  {
   "cell_type": "code",
   "execution_count": null,
   "metadata": {},
   "outputs": [],
   "source": [
    "import networkx as nx\n",
    "import matplotlib.pyplot as plt\n",
    "import numpy as np\n",
    "import pprint\n",
    "pp = pprint.PrettyPrinter(indent=4)\n",
    "%matplotlib inline"
   ]
  },
  {
   "cell_type": "markdown",
   "metadata": {},
   "source": [
    "<h1>Example network: a Small World network</h1>"
   ]
  },
  {
   "cell_type": "code",
   "execution_count": null,
   "metadata": {},
   "outputs": [],
   "source": [
    "sw = nx.watts_strogatz_graph(100,12,0.05)\n",
    "# Initialize the position\n",
    "pos = nx.spring_layout(sw,scale=0.2)\n",
    "# draw all the nodes\n",
    "nx.draw_networkx_nodes(sw,pos,node_size=500)\n",
    "nx.draw_networkx_edges(sw,pos)\n",
    "plt.show()"
   ]
  },
  {
   "cell_type": "markdown",
   "metadata": {},
   "source": [
    "<h1>Community Detection</h1>\n",
    "\n",
    "<h2>Algorithm: $k$-clique-community detection</h2>\n",
    "$k$-clique detection finds communities of cliques of minimum degree $k$ that share at least $k-1$ nodes. The algorithm uses a percolation method to find these communities: a $k$-clique topological \"template\" is fitted over a clique, and one node of the clique is switched with another connected node outside of the clique. If this group of nodes is also a clique, that node is added to the $k$-clique-community. This is repeated until all cliques are visited."
   ]
  },
  {
   "cell_type": "code",
   "execution_count": null,
   "metadata": {
    "collapsed": true
   },
   "outputs": [],
   "source": [
    "from networkx.algorithms.community import k_clique_communities"
   ]
  },
  {
   "cell_type": "code",
   "execution_count": null,
   "metadata": {},
   "outputs": [],
   "source": [
    "for i in range(2,10):\n",
    "    c = list(k_clique_communities(sw,i))\n",
    "    print '{}-clique: '.format(i),len(c), \"communities\""
   ]
  },
  {
   "cell_type": "code",
   "execution_count": null,
   "metadata": {},
   "outputs": [],
   "source": [
    "# we use 6-clique communities\n",
    "c = list(k_clique_communities(sw,6))\n",
    "nx.draw_networkx(sw,pos)\n",
    "for i in range(6):\n",
    "    nx.draw_networkx_nodes(sw, pos, with_labels=True, nodelist=c[i], node_color=[np.random.uniform(0.25,0.95,3)]) # generates a random RGB color\n",
    "nx.draw_networkx_edges(sw,pos)\n",
    "plt.show()"
   ]
  },
  {
   "cell_type": "markdown",
   "metadata": {},
   "source": [
    "<h2>Algorithm: Girvan-Newman</h2>\n",
    "This method finds communities by iteratively removing edges with maximum betweenness centrality, recalculating centrality for the affected nodes, then removing the max-betweenness edge, etc. \n",
    "\n",
    "Betweenness centrality for edge $e$ is calculated as:\n",
    "\\begin{align}\n",
    "g(e) = \\sum_{s \\neq t} \\frac{\\sigma_{st}(e)}{\\sigma_{st}}\n",
    "\\end{align}\n",
    "where $s,t$ are the starting and terminal nodes, and $\\sigma_{st}$ is the number of shortest paths from $s\\rightarrow t$, and $\\sigma_{st}(e)$ is the number of those shortest paths that contain edge $e$\n",
    "\n",
    "Determining when to stop removing edges is a free parameter in the algorithm. Typical choices include: reaching a predefined number of separate remaining subgraphs or maximization of modularity (discussed later). "
   ]
  },
  {
   "cell_type": "code",
   "execution_count": null,
   "metadata": {
    "collapsed": true
   },
   "outputs": [],
   "source": [
    "from networkx.algorithms.community.centrality import girvan_newman\n",
    "import itertools"
   ]
  },
  {
   "cell_type": "code",
   "execution_count": null,
   "metadata": {},
   "outputs": [],
   "source": [
    "c = list(girvan_newman(sw))\n",
    "k = 4\n",
    "partitions =0;\n",
    "comp = girvan_newman(sw)\n",
    "\n",
    "limited = itertools.takewhile(lambda c: len(c) <= k, comp)\n",
    "for communities in limited:\n",
    "    partitions+=1\n",
    "    print(tuple(sorted(c) for c in communities))\n",
    "    \n",
    "    \n",
    "print 'Number of hierarchies:',partitions\n",
    "print 'Selecting',k,'clusters:',c[partitions-1]\n",
    "print 'First partition: ',c[0]\n",
    "print 'Second partition: ',c[1]\n"
   ]
  },
  {
   "cell_type": "code",
   "execution_count": null,
   "metadata": {},
   "outputs": [],
   "source": [
    "## Pick one with 4 partitions\n",
    "cd = list(c[2])  \n",
    "print len(cd)"
   ]
  },
  {
   "cell_type": "code",
   "execution_count": null,
   "metadata": {},
   "outputs": [],
   "source": [
    "nx.draw_networkx(sw,pos)\n",
    "for i in range(4):\n",
    "    nx.draw_networkx_nodes(sw, pos, with_labels=True, nodelist=cd[i], node_color=[np.random.uniform(0.25,0.95,3)]) # generates a random RGB color\n",
    "nx.draw_networkx_edges(sw,pos)\n",
    "plt.show()"
   ]
  },
  {
   "cell_type": "markdown",
   "metadata": {},
   "source": [
    "<h2>Metric: Modularity</h2>\n",
    "Modularity is a network metric that measures how much community structure a network has. The modularity of a network calculated against a null random graph generated via the configuration model. The configuration model takes a prescribed degree distribution but has a random rewiring of edges. One can view the null configuration model graph as cutting all the edges of the original graph, but preserving the \"stubs\" on the vertices, and randomly rewiring all the stubs.\n",
    "\n",
    "The modularity of a graph with $c$ communities is then calculated as:\n",
    "\\begin{align}\n",
    "Q = \\frac{1}{2m} \\sum_{vw} \\big[\\frac{A_{vw}}{2m} - \\frac{k_v k_w}{(2m)^2}\\big]\\delta(c_v, c_w)\n",
    "\\end{align}\n",
    "where $m$ is the total number of edges, $v,w$ are nodes in the graph, $A_{vw}$ is the actual number of edges between $v$ and $w$, $k_v$ is the degree of the node, and $\\delta$ is the dirac delta function.\n",
    "\n",
    "The modularity thus measures how much more within-community connectivity we observe in the network over the null model (where connectivity is proportional simply to the degree of the node). By choosing which communities the vertices belong to, we can try to maximize $Q$."
   ]
  },
  {
   "cell_type": "markdown",
   "metadata": {},
   "source": [
    "<h2>Algorithm: Modularity Maximization Heuristics</h2>\n",
    "(Louvain 2008) offers a percolation-inspired heuristic for community detection. The algorithm has two phases that are applied iteratively: the first phase is a greedy algorithm that places all nodes in their own community, then each node is moved to the community that gives the maximum gain in modularity. This is repeated for all nodes until no more modularity improvement can be made.\n",
    "\n",
    "The second phase builds a new graph where the communities from phase 1 are collapsed into a single node, and the edges between communities collapse into single edges between the respective nodes with equivalent weight. Then phase 1 is repeated on this reduced graph, and the passes continue until no changes occur over a pass."
   ]
  },
  {
   "cell_type": "code",
   "execution_count": null,
   "metadata": {},
   "outputs": [],
   "source": [
    "!pip install python-louvain"
   ]
  },
  {
   "cell_type": "code",
   "execution_count": null,
   "metadata": {},
   "outputs": [],
   "source": [
    "import community\n",
    "\n",
    "#first compute the best partition\n",
    "partition = community.best_partition(sw)\n",
    "\n",
    "#drawing\n",
    "size = float(len(set(partition.values())))\n",
    "count = 0\n",
    "for com in set(partition.values()) :\n",
    "    count = count + 1\n",
    "    list_nodes = [nodes for nodes in partition.keys()\n",
    "                                if partition[nodes] == com]\n",
    "    nx.draw_networkx_nodes(sw, pos, list_nodes,\n",
    "                                node_color = np.random.uniform(0.25,0.95,3))\n",
    "\n",
    "nx.draw_networkx_edges(sw, pos)\n",
    "plt.show()"
   ]
  },
  {
   "cell_type": "markdown",
   "metadata": {},
   "source": [
    "<h1>Centrality metrics</h1>"
   ]
  },
  {
   "cell_type": "code",
   "execution_count": null,
   "metadata": {},
   "outputs": [],
   "source": [
    "# Degree centrality\n",
    "dc = nx.degree_centrality(sw)\n",
    "plt.figure(2, figsize=(7,7))\n",
    "nx.draw(sw,\n",
    "          pos,\n",
    "          nodelist=dc.keys(),\n",
    "          node_size = [d*7000 for d in dc.values()],\n",
    "          node_color=dc.values(),\n",
    "          font_size=8,\n",
    "          cmap='spring',\n",
    "          )"
   ]
  },
  {
   "cell_type": "code",
   "execution_count": null,
   "metadata": {},
   "outputs": [],
   "source": [
    "# Closeness centrality\n",
    "cl = nx.closeness_centrality(sw)\n",
    "plt.figure(1, figsize=(7,7))\n",
    "nx.draw(sw,\n",
    "          pos,\n",
    "          nodelist=cl.keys(),\n",
    "          node_size = [d*3000 for d in cl.values()],\n",
    "          node_color=cl.values(),\n",
    "          font_size=8,\n",
    "          cmap='summer',\n",
    "          )"
   ]
  },
  {
   "cell_type": "code",
   "execution_count": null,
   "metadata": {},
   "outputs": [],
   "source": [
    "# Betweenness centrality\n",
    "bc = nx.betweenness_centrality(sw)\n",
    "plt.figure(1, figsize=(7,7))\n",
    "nx.draw(sw,\n",
    "          pos,\n",
    "          nodelist=bc.keys(),\n",
    "          node_size = [d*10000 for d in bc.values()],\n",
    "          node_color=bc.values(),\n",
    "          font_size=8,\n",
    "          cmap='autumn',\n",
    "          )"
   ]
  },
  {
   "cell_type": "code",
   "execution_count": null,
   "metadata": {},
   "outputs": [],
   "source": [
    "# Eigenvector centrality\n",
    "ec = nx.eigenvector_centrality(sw ,max_iter=500)\n",
    "plt.figure(1, figsize=(7,7))\n",
    "nx.draw(sw,\n",
    "          pos,\n",
    "          nodelist=ec.keys(),\n",
    "          node_size = [d*10000 for d in ec.values()],\n",
    "          node_color=ec.values(),\n",
    "          font_size=8,\n",
    "          cmap='winter',\n",
    "          )"
   ]
  },
  {
   "cell_type": "code",
   "execution_count": null,
   "metadata": {},
   "outputs": [],
   "source": [
    "# plot two metrics against each other: closeness vs. eigenvector centrality\n",
    "x = cl.values()\n",
    "y = ec.values()\n",
    "s = np.multiply(x,y)**2*1e5\n",
    "plt.figure(1, figsize=(7,7))\n",
    "plt.scatter(x,y,s = s)\n",
    "plt.xlabel('Closeness Centrality')\n",
    "plt.ylabel('Eigenvector Centrality')"
   ]
  },
  {
   "cell_type": "code",
   "execution_count": null,
   "metadata": {},
   "outputs": [],
   "source": [
    "# list top 10 for both metrics\n",
    "print 'Closeness Centrality Top 10:'\n",
    "print sorted(cl, key=cl.get,reverse=True)[:10]\n",
    "print 'Eigenvector Centrality Top 10:'\n",
    "print sorted(ec, key=ec.get,reverse=True)[:10]"
   ]
  },
  {
   "cell_type": "code",
   "execution_count": null,
   "metadata": {
    "collapsed": true
   },
   "outputs": [],
   "source": []
  }
 ],
 "metadata": {
  "anaconda-cloud": {},
  "kernelspec": {
   "display_name": "Python 2",
   "language": "python",
   "name": "python2"
  },
  "language_info": {
   "codemirror_mode": {
    "name": "ipython",
    "version": 2
   },
   "file_extension": ".py",
   "mimetype": "text/x-python",
   "name": "python",
   "nbconvert_exporter": "python",
   "pygments_lexer": "ipython2",
   "version": "2.7.14"
  }
 },
 "nbformat": 4,
 "nbformat_minor": 1
}
