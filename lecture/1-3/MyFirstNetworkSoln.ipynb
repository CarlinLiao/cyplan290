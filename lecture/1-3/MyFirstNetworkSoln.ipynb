{
 "cells": [
  {
   "cell_type": "code",
   "execution_count": 290,
   "metadata": {},
   "outputs": [],
   "source": [
    "import networkx as nx\n",
    "import matplotlib.pyplot as plt\n",
    "import numpy as np\n",
    "#this will allow the plot to be inline in the browser\n",
    "%matplotlib inline"
   ]
  },
  {
   "cell_type": "markdown",
   "metadata": {},
   "source": [
    "### Exercise: Create the 4 node network of Lecture 1 and respond the following questions (use networkx documentation or Google the questions)"
   ]
  },
  {
   "cell_type": "code",
   "execution_count": 291,
   "metadata": {},
   "outputs": [],
   "source": [
    "g = nx.Graph()  #Graph base class for undirected graphs. See also:DiGraph for directed graphs\n",
    "g.add_edge('1','2',weight=1.0) #Nodes can be arbitrary (hashable) Python objects with optional key/value attributes.\n",
    "g.add_edge('2','3',weight=1.0) #Edges are represented as links between nodes with optional key/value attributes.                                \n",
    "g.add_edge('2','4',weight=1.0) #We create a network by adding 11 edges to the graph (g) of 4 nodes. \n",
    "g.add_edge('4','3',weight=1.0)"
   ]
  },
  {
   "cell_type": "code",
   "execution_count": 292,
   "metadata": {},
   "outputs": [
    {
     "data": {
      "image/png": "[encoded data removed]",
      "text/plain": [
       "<matplotlib.figure.Figure at 0x1127109d0>"
      ]
     },
     "metadata": {},
     "output_type": "display_data"
    }
   ],
   "source": [
    "nx.draw_networkx(g) #The draw_networkx function is called (check online documentation to learn all the properties)"
   ]
  },
  {
   "cell_type": "markdown",
   "metadata": {},
   "source": [
    "#### 1) Print Nodes"
   ]
  },
  {
   "cell_type": "code",
   "execution_count": 293,
   "metadata": {},
   "outputs": [
    {
     "name": "stdout",
     "output_type": "stream",
     "text": [
      "Nodes:  ['1', '3', '2', '4']\n"
     ]
    }
   ],
   "source": [
    "print \"Nodes: \" , g.nodes()"
   ]
  },
  {
   "cell_type": "markdown",
   "metadata": {},
   "source": [
    "#### 2) Print Edges"
   ]
  },
  {
   "cell_type": "code",
   "execution_count": 294,
   "metadata": {},
   "outputs": [
    {
     "name": "stdout",
     "output_type": "stream",
     "text": [
      "Edges:  [('1', '2'), ('3', '2'), ('3', '4'), ('2', '4')]\n"
     ]
    }
   ],
   "source": [
    "print \"Edges: \" , g.edges()"
   ]
  },
  {
   "cell_type": "markdown",
   "metadata": {},
   "source": [
    "#### 3) Print number of nodes"
   ]
  },
  {
   "cell_type": "code",
   "execution_count": 295,
   "metadata": {},
   "outputs": [
    {
     "name": "stdout",
     "output_type": "stream",
     "text": [
      "Number of nodes: 4\n"
     ]
    }
   ],
   "source": [
    "print \"Number of nodes:\" , g.number_of_nodes()"
   ]
  },
  {
   "cell_type": "markdown",
   "metadata": {},
   "source": [
    "#### 4) Print number of Edges"
   ]
  },
  {
   "cell_type": "code",
   "execution_count": 296,
   "metadata": {},
   "outputs": [
    {
     "name": "stdout",
     "output_type": "stream",
     "text": [
      "Number of edges: 4\n"
     ]
    }
   ],
   "source": [
    "print \"Number of edges:\" , g.number_of_edges()"
   ]
  },
  {
   "cell_type": "markdown",
   "metadata": {},
   "source": [
    "#### 5) Iterate through nodes and print neighbors"
   ]
  },
  {
   "cell_type": "code",
   "execution_count": 297,
   "metadata": {},
   "outputs": [
    {
     "name": "stdout",
     "output_type": "stream",
     "text": [
      "Neighbors of  1  are :  ['2']\n",
      "Neighbors of  3  are :  ['2', '4']\n",
      "Neighbors of  2  are :  ['1', '3', '4']\n",
      "Neighbors of  4  are :  ['3', '2']\n"
     ]
    }
   ],
   "source": [
    "for node in g.nodes():\n",
    "    print \"Neighbors of \", node, \" are : \", list(g.neighbors(node))"
   ]
  },
  {
   "cell_type": "markdown",
   "metadata": {
    "collapsed": true
   },
   "source": [
    "#### 6) Iterate through nodes and print degree"
   ]
  },
  {
   "cell_type": "code",
   "execution_count": 298,
   "metadata": {},
   "outputs": [
    {
     "name": "stdout",
     "output_type": "stream",
     "text": [
      "Degree of  1  are :  1\n",
      "Degree of  3  are :  2\n",
      "Degree of  2  are :  3\n",
      "Degree of  4  are :  2\n"
     ]
    }
   ],
   "source": [
    "for node in g.nodes():\n",
    "    print \"Degree of \", node, \" are : \", len(list(g.neighbors(node)))"
   ]
  },
  {
   "cell_type": "markdown",
   "metadata": {},
   "source": [
    "#### Repeat the exercise 1)-6) using DiGraph instead of Graph"
   ]
  },
  {
   "cell_type": "code",
   "execution_count": 299,
   "metadata": {
    "collapsed": true
   },
   "outputs": [],
   "source": [
    "gd = nx.DiGraph()  #Graph base class for undirected graphs. See also:DiGraph for directed graphs\n",
    "gd.add_edge('1','2',weight=1.0) #Nodes can be arbitrary (hashable) Python objects with optional key/value attributes.\n",
    "gd.add_edge('2','3',weight=1.0) #Edges are represented as links between nodes with optional key/value attributes.                                \n",
    "gd.add_edge('2','4',weight=1.0) #We create a network by adding 11 edges to the graph (g) of 4 nodes. \n",
    "gd.add_edge('4','3',weight=1.0)"
   ]
  },
  {
   "cell_type": "code",
   "execution_count": 300,
   "metadata": {},
   "outputs": [
    {
     "data": {
      "image/png": "[encoded data removed]",
      "text/plain": [
       "<matplotlib.figure.Figure at 0x11229b550>"
      ]
     },
     "metadata": {},
     "output_type": "display_data"
    }
   ],
   "source": [
    "nx.draw_networkx(gd)"
   ]
  },
  {
   "cell_type": "code",
   "execution_count": 301,
   "metadata": {},
   "outputs": [
    {
     "name": "stdout",
     "output_type": "stream",
     "text": [
      "Nodes:  ['1', '3', '2', '4']\n"
     ]
    }
   ],
   "source": [
    "print \"Nodes: \" , gd.nodes()"
   ]
  },
  {
   "cell_type": "code",
   "execution_count": 302,
   "metadata": {},
   "outputs": [
    {
     "name": "stdout",
     "output_type": "stream",
     "text": [
      "Edges:  [('1', '2'), ('2', '3'), ('2', '4'), ('4', '3')]\n"
     ]
    }
   ],
   "source": [
    "print \"Edges: \" , gd.edges()"
   ]
  },
  {
   "cell_type": "code",
   "execution_count": 303,
   "metadata": {},
   "outputs": [
    {
     "name": "stdout",
     "output_type": "stream",
     "text": [
      "#Nodes:  4\n"
     ]
    }
   ],
   "source": [
    "print \"#Nodes: \" , gd.number_of_nodes()"
   ]
  },
  {
   "cell_type": "code",
   "execution_count": 304,
   "metadata": {},
   "outputs": [
    {
     "name": "stdout",
     "output_type": "stream",
     "text": [
      "#Edges:  4\n"
     ]
    }
   ],
   "source": [
    "print \"#Edges: \" , gd.number_of_edges()"
   ]
  },
  {
   "cell_type": "code",
   "execution_count": 305,
   "metadata": {},
   "outputs": [
    {
     "name": "stdout",
     "output_type": "stream",
     "text": [
      "Neighbors of  1  are :  ['2']\n",
      "Neighbors of  3  are :  []\n",
      "Neighbors of  2  are :  ['3', '4']\n",
      "Neighbors of  4  are :  ['3']\n"
     ]
    }
   ],
   "source": [
    "for node in gd.nodes():\n",
    "    print \"Neighbors of \", node, \" are : \", list(gd.neighbors(node))"
   ]
  },
  {
   "cell_type": "code",
   "execution_count": 306,
   "metadata": {},
   "outputs": [
    {
     "name": "stdout",
     "output_type": "stream",
     "text": [
      "Degree of  1  are :  1\n",
      "Degree of  3  are :  0\n",
      "Degree of  2  are :  2\n",
      "Degree of  4  are :  1\n"
     ]
    }
   ],
   "source": [
    "for node in gd.nodes():\n",
    "    print \"Degree of \", node, \" are : \", len(list(gd.neighbors(node)))"
   ]
  },
  {
   "cell_type": "code",
   "execution_count": 307,
   "metadata": {},
   "outputs": [
    {
     "name": "stdout",
     "output_type": "stream",
     "text": [
      "Average degree of  directed graph =  2.0 , or:  2.0\n"
     ]
    }
   ],
   "source": [
    "print \"Average degree of  directed graph = \",np.mean(dict(gd.degree()).values()),\", or: \",2.0*gd.number_of_edges()/gd.number_of_nodes()"
   ]
  },
  {
   "cell_type": "code",
   "execution_count": 308,
   "metadata": {},
   "outputs": [
    {
     "data": {
      "text/plain": [
       "0"
      ]
     },
     "execution_count": 308,
     "metadata": {},
     "output_type": "execute_result"
    }
   ],
   "source": [
    "gd.in_degree('1')"
   ]
  },
  {
   "cell_type": "markdown",
   "metadata": {},
   "source": [
    "## in-degree"
   ]
  },
  {
   "cell_type": "code",
   "execution_count": 309,
   "metadata": {},
   "outputs": [
    {
     "name": "stdout",
     "output_type": "stream",
     "text": [
      "Degree of  1  are :  0\n",
      "Degree of  3  are :  2\n",
      "Degree of  2  are :  1\n",
      "Degree of  4  are :  1\n"
     ]
    }
   ],
   "source": [
    "for node in gd.nodes():\n",
    "    print \"Degree of \", node, \" are : \", gd.in_degree(node)"
   ]
  },
  {
   "cell_type": "code",
   "execution_count": 310,
   "metadata": {},
   "outputs": [
    {
     "name": "stdout",
     "output_type": "stream",
     "text": [
      "Average degree of  directed graph =  1.0 , or:  1\n"
     ]
    }
   ],
   "source": [
    "print \"Average degree of  directed graph = \",np.mean(dict(gd.in_degree()).values()),\", or: \",gd.number_of_edges()/gd.number_of_nodes()"
   ]
  },
  {
   "cell_type": "markdown",
   "metadata": {},
   "source": [
    "## out-degree"
   ]
  },
  {
   "cell_type": "code",
   "execution_count": 311,
   "metadata": {},
   "outputs": [
    {
     "name": "stdout",
     "output_type": "stream",
     "text": [
      "Degree of  1  are :  1\n",
      "Degree of  3  are :  0\n",
      "Degree of  2  are :  2\n",
      "Degree of  4  are :  1\n"
     ]
    }
   ],
   "source": [
    "for node in gd.nodes():\n",
    "    print \"Degree of \", node, \" are : \", gd.out_degree(node)"
   ]
  },
  {
   "cell_type": "code",
   "execution_count": 312,
   "metadata": {},
   "outputs": [
    {
     "name": "stdout",
     "output_type": "stream",
     "text": [
      "Average out degree of  directed graph =  1.0 , or:  1\n"
     ]
    }
   ],
   "source": [
    "print \"Average out degree of  directed graph = \",np.mean(dict(gd.out_degree()).values()),\", or: \",gd.number_of_edges()/gd.number_of_nodes()"
   ]
  },
  {
   "cell_type": "markdown",
   "metadata": {},
   "source": [
    "## Let's work with the shortest paths"
   ]
  },
  {
   "cell_type": "markdown",
   "metadata": {},
   "source": [
    "## Write the shortest path of G (the directed version). Check function online. With that information answer PSet"
   ]
  },
  {
   "cell_type": "code",
   "execution_count": 323,
   "metadata": {},
   "outputs": [],
   "source": [
    "p=nx.shortest_path(gd)"
   ]
  },
  {
   "cell_type": "code",
   "execution_count": 396,
   "metadata": {},
   "outputs": [
    {
     "name": "stdout",
     "output_type": "stream",
     "text": [
      "1 has  4 paths\n",
      "['1'] length  0\n",
      "['1', '2', '3'] length  2\n",
      "['1', '2'] length  1\n",
      "['1', '2', '4'] length  2\n",
      "3 has  1 paths\n",
      "['3'] length  0\n",
      "2 has  3 paths\n",
      "['2', '3'] length  1\n",
      "['2'] length  0\n",
      "['2', '4'] length  1\n",
      "4 has  2 paths\n",
      "['4', '3'] length  1\n",
      "['4'] length  0\n"
     ]
    }
   ],
   "source": [
    "Ptmax=-1;\n",
    "t=0;\n",
    "for node in gd.nodes():\n",
    "    paths = nx.shortest_path(gd,node).values()\n",
    "    print node, \"has \",len(paths),\"paths\"\n",
    "    for x in range(0, len(paths)):\n",
    "       #print paths[x], \"and \", len(paths[x])-1\n",
    "       pt= len(paths[x])-1\n",
    "       if pt>0:\n",
    "          t=t+1;  \n",
    "          if pt>Ptmax:\n",
    "             Ptmax=pt   \n",
    "       print paths[x], \"length \", pt"
   ]
  },
  {
   "cell_type": "code",
   "execution_count": 397,
   "metadata": {},
   "outputs": [
    {
     "data": {
      "text/plain": [
       "2"
      ]
     },
     "execution_count": 397,
     "metadata": {},
     "output_type": "execute_result"
    }
   ],
   "source": [
    "Ptmax"
   ]
  },
  {
   "cell_type": "code",
   "execution_count": 416,
   "metadata": {
    "scrolled": true
   },
   "outputs": [
    {
     "data": {
      "text/plain": [
       "0.6666666666666666"
      ]
     },
     "execution_count": 416,
     "metadata": {},
     "output_type": "execute_result"
    }
   ],
   "source": [
    "nx.average_shortest_path_length(gd)"
   ]
  },
  {
   "cell_type": "code",
   "execution_count": 411,
   "metadata": {},
   "outputs": [
    {
     "name": "stdout",
     "output_type": "stream",
     "text": [
      "[]\n"
     ]
    }
   ],
   "source": [
    "print([i for i in pa])"
   ]
  },
  {
   "cell_type": "code",
   "execution_count": 418,
   "metadata": {},
   "outputs": [
    {
     "data": {
      "text/plain": [
       "0.6666666666666666"
      ]
     },
     "execution_count": 418,
     "metadata": {},
     "output_type": "execute_result"
    }
   ],
   "source": [
    "8.0/12.0"
   ]
  },
  {
   "cell_type": "code",
   "execution_count": null,
   "metadata": {
    "collapsed": true
   },
   "outputs": [],
   "source": []
  },
  {
   "cell_type": "code",
   "execution_count": null,
   "metadata": {
    "collapsed": true
   },
   "outputs": [],
   "source": []
  }
 ],
 "metadata": {
  "anaconda-cloud": {},
  "kernelspec": {
   "display_name": "Python 2",
   "language": "python",
   "name": "python2"
  },
  "language_info": {
   "codemirror_mode": {
    "name": "ipython",
    "version": 2
   },
   "file_extension": ".py",
   "mimetype": "text/x-python",
   "name": "python",
   "nbconvert_exporter": "python",
   "pygments_lexer": "ipython2",
   "version": "2.7.14"
  }
 },
 "nbformat": 4,
 "nbformat_minor": 1
}
