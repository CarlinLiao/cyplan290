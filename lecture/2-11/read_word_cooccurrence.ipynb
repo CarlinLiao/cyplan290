{
 "cells": [
  {
   "cell_type": "markdown",
   "metadata": {},
   "source": [
    "## We will transform a well-known planning literature into a network of word co-occurrence. This involves a machine learning package called scikit-learn, which allows us to extract co-occurrence patterns easily."
   ]
  },
  {
   "cell_type": "code",
   "execution_count": null,
   "metadata": {
    "collapsed": true
   },
   "outputs": [],
   "source": [
    "import numpy as np\n",
    "import networkx as nx\n",
    "from sklearn.feature_extraction.text import CountVectorizer\n",
    "import re\n",
    "import matplotlib.pyplot as plt\n",
    "%matplotlib inline"
   ]
  },
  {
   "cell_type": "code",
   "execution_count": null,
   "metadata": {
    "collapsed": true
   },
   "outputs": [],
   "source": [
    "def clean(s):\n",
    "    \n",
    "    s = s.lower() # all lowercase\n",
    "    s = s.replace('[sic]','')\n",
    "    s = s.lstrip('0123456789') # remove numbers\n",
    "    s = re.sub(r'[^\\w\\s]','',s) # remove punctuations\n",
    "    \n",
    "    return s\n",
    "\n",
    "doc = []\n",
    "\n",
    "f = open(r'/Users/xyzjayne/Documents/CP290E/Lecture Files/Feb 20/athens_charter.txt','r')\n",
    "text=f.readlines() # a list of every line in the text file\n",
    "for line in text:\n",
    "    sentences = line.split('.')[:-1]\n",
    "    for s in sentences:\n",
    "        doc.append(clean(s))"
   ]
  },
  {
   "cell_type": "code",
   "execution_count": null,
   "metadata": {},
   "outputs": [],
   "source": [
    "count_model = CountVectorizer(ngram_range=(1,1),stop_words = 'english') # default unigram model\n",
    "X = count_model.fit_transform(doc)\n",
    "Xc = (X.T * X) # this is co-occurrence matrix in sparse csr format\n",
    "Xc.setdiag(0) # fill same word cooccurence to 0\n",
    "print Xc"
   ]
  },
  {
   "cell_type": "code",
   "execution_count": null,
   "metadata": {},
   "outputs": [],
   "source": [
    "print count_model.vocabulary_"
   ]
  },
  {
   "cell_type": "code",
   "execution_count": null,
   "metadata": {
    "collapsed": true
   },
   "outputs": [],
   "source": [
    "word_dict = {} # want a reverse dictionary that maps ids to words\n",
    "for i in count_model.vocabulary_:\n",
    "    num = count_model.vocabulary_[i]\n",
    "    word_dict[num] = i"
   ]
  },
  {
   "cell_type": "code",
   "execution_count": null,
   "metadata": {
    "collapsed": true
   },
   "outputs": [],
   "source": [
    "G=nx.Graph()\n",
    "\n",
    "for i in range(Xc.shape[0]):\n",
    "    for j in range(Xc.shape[1]):\n",
    "        if Xc[i,j]>0:\n",
    "            G.add_edge(word_dict[i],word_dict[j],weight = Xc[i,j]) # weight here indicates frequency of co-occurrence"
   ]
  },
  {
   "cell_type": "code",
   "execution_count": null,
   "metadata": {},
   "outputs": [],
   "source": [
    "G = max(nx.connected_component_subgraphs(G),key = len)\n",
    "N = len(G.nodes)\n",
    "print 'Number of nodes in largest connected components: {}'.format(N)\n",
    "\n",
    "k_avg = np.mean(dict(G.degree()).values())\n",
    "print 'Average degree: {}'.format(k_avg)\n",
    "\n",
    "cc = nx.average_clustering(G)\n",
    "sp = nx.average_shortest_path_length(G)\n",
    "print 'Average clustering coefficient: {}'.format(cc)\n",
    "print 'Average shortest path length: {}'.format(sp)"
   ]
  },
  {
   "cell_type": "code",
   "execution_count": null,
   "metadata": {},
   "outputs": [],
   "source": [
    "plt.figure()\n",
    "plt.hist(dict(G.degree()).values())\n",
    "plt.show()"
   ]
  },
  {
   "cell_type": "code",
   "execution_count": null,
   "metadata": {},
   "outputs": [],
   "source": [
    "# words with the highest degrees:\n",
    "for key, value in sorted(dict(G.degree()).iteritems(), key=lambda (k,v): (v,k),reverse = True):\n",
    "    print \"%s: %s\" % (key, value)"
   ]
  },
  {
   "cell_type": "code",
   "execution_count": null,
   "metadata": {
    "collapsed": true
   },
   "outputs": [],
   "source": [
    "elarge=[(u,v) for (u,v,d) in G.edges(data=True) if d['weight'] >3] # high-weight edges\n",
    "esmall=[(u,v) for (u,v,d) in G.edges(data=True) if d['weight'] <=3]\n",
    "\n",
    "H = nx.Graph()\n",
    "H.add_edges_from(elarge) # create a high-weight-edge-only graph for plotting\n"
   ]
  },
  {
   "cell_type": "code",
   "execution_count": null,
   "metadata": {},
   "outputs": [],
   "source": [
    "plt.figure(figsize=(8,8))\n",
    "pos=nx.spring_layout(H) # positions for all nodes\n",
    "\n",
    "# nodes\n",
    "nx.draw_networkx(H, font_size = 10)\n",
    "plt.title('Most Commonly Seen Word Co-occurrence in Athens Charter')\n",
    "plt.axis('off')\n",
    "plt.show() # display"
   ]
  },
  {
   "cell_type": "code",
   "execution_count": null,
   "metadata": {
    "collapsed": true
   },
   "outputs": [],
   "source": []
  }
 ],
 "metadata": {
  "kernelspec": {
   "display_name": "Python 2",
   "language": "python",
   "name": "python2"
  },
  "language_info": {
   "codemirror_mode": {
    "name": "ipython",
    "version": 2
   },
   "file_extension": ".py",
   "mimetype": "text/x-python",
   "name": "python",
   "nbconvert_exporter": "python",
   "pygments_lexer": "ipython2",
   "version": "2.7.14"
  }
 },
 "nbformat": 4,
 "nbformat_minor": 2
}
