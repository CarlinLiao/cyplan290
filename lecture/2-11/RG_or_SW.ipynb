{
 "cells": [
  {
   "cell_type": "code",
   "execution_count": null,
   "metadata": {
    "collapsed": true
   },
   "outputs": [],
   "source": [
    "import networkx as nx\n",
    "import matplotlib.pyplot as plt\n",
    "import numpy as np\n",
    "%matplotlib inline\n",
    "import math,sys"
   ]
  },
  {
   "cell_type": "code",
   "execution_count": null,
   "metadata": {},
   "outputs": [],
   "source": [
    "##### Watts-Strogatz model parameters #####\n",
    "\n",
    "# Number of nodes (graph vertices)\n",
    "n=200\n",
    "# Degree of the initial ring-lattice\n",
    "k=10\n",
    "# Resolution (number of different values of p, the rewiring probability)\n",
    "r=20\n",
    "\n",
    "# Generate a set of r logarithmically spaced values of p\n",
    "p_range=[0] + np.logspace( -4, 0, r ).tolist()\n",
    "\n",
    "###### For each p, compute the characterstic measures of the Watt-Strogatz model (n,k,p) ####\n",
    "clustering = []\n",
    "sp_length  = []\n",
    "cc_rg = []\n",
    "sp_rg = []\n",
    "\n",
    "for p in p_range:\n",
    "    # repeat the calculation 10 times and find the average value\n",
    "    sp = 0\n",
    "    cc = 0\n",
    "    for i in range(10):\n",
    "        # Create a Watts-Strogatz graph\n",
    "        graph = nx.watts_strogatz_graph( n, k, p )\n",
    "        \n",
    "        # Compute the average shortest-path length L(p)\n",
    "        sp+= nx.average_shortest_path_length( graph ) \n",
    "\n",
    "        # Compute the clustering coefficient C(p)\n",
    "        cc+=nx.average_clustering( graph ) \n",
    "    sp_length.append(sp/10)\n",
    "    clustering.append(cc/10)\n",
    "    \n",
    "    print \"[p=%.4f]: Clustering coefficient C(p)=%.4f,  Avg shortest path L(p)=%.4f\" % (p, clustering[-1], sp_length[-1]) \n",
    "    sys.stdout.flush()\n",
    "\n",
    "##### Plot L(p)/L(0) and C(p)/C(0) #####\n",
    "plt.figure(1,figsize=(9,9))\n",
    "\n",
    "plt.semilogx(p_range[1:] , [L / sp_length[0]  for L in sp_length[1:]]  , '--sb', markersize=10, label='L(p)/L(0) - avg. shortest path')\n",
    "plt.semilogx(p_range[1:] , [C / clustering[0] for C in clustering[1:]] , 'or', markersize=10, label='C(p)/C(0) - clustering coefficient')\n",
    "plt.semilogx(p_range[1:] , [(1-p)**3.0 for p in p_range[1:]] , '--', color=[0.2,0.2,0.2], linewidth=3, markersize=12, label='C(p)/C(0) - Analytical clustering')\n",
    "\n",
    "# Extend the plot region to see the points at both ends\n",
    "lims = plt.xlim()\n",
    "plt.xlim([lims[0]*0.9, lims[1]*1.1]) \n",
    "lims = plt.ylim()\n",
    "plt.ylim([lims[0]*0.95, lims[1]*1.05]) \n",
    "\n",
    "\n",
    "plt.title( \"Characteristics of Watts-Strogatz model with n=%d and k=%d\"%(n,k) , fontsize=16)\n",
    "plt.xlabel( \"Rewiring probability (p)\" , fontsize=14)\n",
    "plt.ylabel( \"L(p)/L(0) and C(p)/C(0)\" , fontsize=14)\n",
    "plt.legend( loc='best' )\n",
    "plt.show()"
   ]
  },
  {
   "cell_type": "code",
   "execution_count": null,
   "metadata": {
    "collapsed": true
   },
   "outputs": [],
   "source": [
    "graph = nx.read_pajek('/Users/xyzjayne/Documents/CP290E/Lecture Files/Lecture9Materials/comm32.net').to_undirected()\n",
    "def fromMulti_to_Single(G):\n",
    "    H = nx.Graph()\n",
    "    for u,v,d in G.edges(data=True):\n",
    "        H.add_edge(u,v)\n",
    "    return H\n",
    "graph = fromMulti_to_Single(graph)"
   ]
  },
  {
   "cell_type": "code",
   "execution_count": null,
   "metadata": {},
   "outputs": [],
   "source": [
    "##### Determine whether a network can be a random graph or a small world\n",
    "def random_graph_test(G):\n",
    "    print 'Hypothesis: random graph model'\n",
    "    G = max(nx.connected_component_subgraphs(G),key = len)\n",
    "    N = len(G.nodes)\n",
    "    print 'Number of nodes in largest connected components: {}'.format(N)\n",
    "    \n",
    "    k_avg = np.mean(dict(G.degree()).values())\n",
    "    cc = nx.average_clustering(G)\n",
    "    sp = nx.average_shortest_path_length(G)\n",
    "    \n",
    "    p_RG = k_avg / N\n",
    "    sp_RG = np.log(N)/np.log(k_avg)\n",
    "    print 'Clustering coefficient \\n Theoretical: {}, actual: {}'.format(p_RG,cc)\n",
    "    print 'Difference: {}%'.format(int((cc-p_RG)/p_RG*100))\n",
    "    print 'Average shortest path length \\n Theoretical: {}, actual: {}'.format(sp_RG,sp)\n",
    "    print 'Difference: {}%'.format(int((sp-sp_RG)/sp_RG*100))\n",
    "    \n",
    "random_graph_test(graph)"
   ]
  },
  {
   "cell_type": "code",
   "execution_count": null,
   "metadata": {},
   "outputs": [],
   "source": [
    "def small_world_test(G):\n",
    "    print 'Hypothesis: small world model'\n",
    "    G = max(nx.connected_component_subgraphs(G),key = len)\n",
    "    N = len(G.nodes)\n",
    "    print 'Number of nodes in largest connected components: {}'.format(N)\n",
    "    \n",
    "    k_avg = np.mean(dict(G.degree()).values())\n",
    "    cc = nx.average_clustering(G)\n",
    "    sp = nx.average_shortest_path_length(G)\n",
    "    \n",
    "    SW_0 = nx.watts_strogatz_graph( N, int(k_avg), 0 )\n",
    "    C_0 = nx.average_clustering(SW_0)\n",
    "    \n",
    "    # find p given clustering coefficient\n",
    "    p_SW = 1 - (cc/C_0)**(1./3)\n",
    "\n",
    "    print ('Value of p that produces the right clustering coefficient \\n {}'.format(p_SW))\n",
    "    print ('Within typical small world p value 0.01 - 0.1? \\n {}'.format(p_SW>0.01 and p_SW<0.1))\n",
    "    \n",
    "small_world_test(graph)"
   ]
  }
 ],
 "metadata": {
  "kernelspec": {
   "display_name": "Python 2",
   "language": "python",
   "name": "python2"
  },
  "language_info": {
   "codemirror_mode": {
    "name": "ipython",
    "version": 2
   },
   "file_extension": ".py",
   "mimetype": "text/x-python",
   "name": "python",
   "nbconvert_exporter": "python",
   "pygments_lexer": "ipython2",
   "version": "2.7.14"
  }
 },
 "nbformat": 4,
 "nbformat_minor": 2
}
