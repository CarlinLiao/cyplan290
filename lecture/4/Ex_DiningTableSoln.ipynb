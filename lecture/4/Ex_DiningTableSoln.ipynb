{
 "cells": [
  {
   "cell_type": "code",
   "execution_count": 1,
   "metadata": {
    "collapsed": false
   },
   "outputs": [
    {
     "name": "stderr",
     "output_type": "stream",
     "text": [
      "/Users/marta/anaconda/lib/python2.7/site-packages/matplotlib/font_manager.py:273: UserWarning: Matplotlib is building the font cache using fc-list. This may take a moment.\n",
      "  warnings.warn('Matplotlib is building the font cache using fc-list. This may take a moment.')\n"
     ]
    }
   ],
   "source": [
    "import networkx as nx\n",
    "import matplotlib.pyplot as plt\n",
    "import numpy as np\n",
    "#this will allow the plot to be inline in the browser\n",
    "%matplotlib inline"
   ]
  },
  {
   "cell_type": "code",
   "execution_count": 2,
   "metadata": {
    "collapsed": false
   },
   "outputs": [],
   "source": [
    "G = nx.DiGraph()"
   ]
  },
  {
   "cell_type": "markdown",
   "metadata": {},
   "source": [
    "### Exercise 2: Read the file Dining-table_partners.net as a pajek file in NetworkX and answer the following questions"
   ]
  },
  {
   "cell_type": "code",
   "execution_count": 3,
   "metadata": {
    "collapsed": false
   },
   "outputs": [],
   "source": [
    "g=nx.read_pajek(\"Dining-table_partners.net\")  #read the data "
   ]
  },
  {
   "cell_type": "code",
   "execution_count": 48,
   "metadata": {
    "collapsed": false
   },
   "outputs": [],
   "source": [
    "G=g.to_directed()   #we will compare the properties of a directed graph and its undirected representation at the end\n",
    "G2=g.to_undirected()   "
   ]
  },
  {
   "cell_type": "markdown",
   "metadata": {},
   "source": [
    "#### 1) Print Nodes"
   ]
  },
  {
   "cell_type": "code",
   "execution_count": 5,
   "metadata": {
    "collapsed": false
   },
   "outputs": [
    {
     "name": "stdout",
     "output_type": "stream",
     "text": [
      "Nodes:  [u'Louise', u'Ellen', u'Ada', u'Jane', u'Ruth', u'Mary', u'Anna', u'Lena', u'Martha', u'Cora', u'Ella', u'Hazel', u'Frances', u'Helen', u'Adele', u'Eva', u'Alice', u'Betty', u'Jean', u'Robin', u'Maxine', u'Edna', u'Hilda', u'Laura', u'Marion', u'Irene']\n"
     ]
    }
   ],
   "source": [
    "print \"Nodes: \" , G.nodes()"
   ]
  },
  {
   "cell_type": "markdown",
   "metadata": {},
   "source": [
    "#### 2) Print Edges"
   ]
  },
  {
   "cell_type": "code",
   "execution_count": 6,
   "metadata": {
    "collapsed": false
   },
   "outputs": [
    {
     "name": "stdout",
     "output_type": "stream",
     "text": [
      "Edges:  [(u'Louise', u'Lena'), (u'Louise', u'Marion'), (u'Ellen', u'Edna'), (u'Ellen', u'Anna'), (u'Ada', u'Cora'), (u'Ada', u'Louise'), (u'Jane', u'Adele'), (u'Jane', u'Mary'), (u'Ruth', u'Jane'), (u'Ruth', u'Hilda'), (u'Mary', u'Edna'), (u'Mary', u'Jane'), (u'Anna', u'Maxine'), (u'Anna', u'Lena'), (u'Lena', u'Marion'), (u'Lena', u'Louise'), (u'Martha', u'Marion'), (u'Martha', u'Anna'), (u'Cora', u'Jean'), (u'Cora', u'Ada'), (u'Ella', u'Ellen'), (u'Ella', u'Helen'), (u'Hazel', u'Anna'), (u'Hazel', u'Hilda'), (u'Frances', u'Eva'), (u'Frances', u'Marion'), (u'Helen', u'Eva'), (u'Helen', u'Jean'), (u'Adele', u'Marion'), (u'Adele', u'Frances'), (u'Eva', u'Maxine'), (u'Eva', u'Marion'), (u'Alice', u'Eva'), (u'Alice', u'Martha'), (u'Betty', u'Edna'), (u'Betty', u'Hilda'), (u'Jean', u'Robin'), (u'Jean', u'Helen'), (u'Robin', u'Eva'), (u'Robin', u'Helen'), (u'Maxine', u'Eva'), (u'Maxine', u'Adele'), (u'Edna', u'Adele'), (u'Edna', u'Mary'), (u'Hilda', u'Hazel'), (u'Hilda', u'Betty'), (u'Laura', u'Edna'), (u'Laura', u'Eva'), (u'Marion', u'Martha'), (u'Marion', u'Frances'), (u'Irene', u'Ellen'), (u'Irene', u'Hilda')]\n"
     ]
    }
   ],
   "source": [
    "print \"Edges: \" , G.edges()"
   ]
  },
  {
   "cell_type": "markdown",
   "metadata": {},
   "source": [
    "#### 3)Print Number of Edges"
   ]
  },
  {
   "cell_type": "code",
   "execution_count": 7,
   "metadata": {
    "collapsed": false
   },
   "outputs": [
    {
     "name": "stdout",
     "output_type": "stream",
     "text": [
      "Number of edges: 52\n"
     ]
    }
   ],
   "source": [
    "print \"Number of edges:\" , G.number_of_edges()"
   ]
  },
  {
   "cell_type": "code",
   "execution_count": 53,
   "metadata": {
    "collapsed": false
   },
   "outputs": [
    {
     "name": "stdout",
     "output_type": "stream",
     "text": [
      "Number of nodes: 26\n"
     ]
    }
   ],
   "source": [
    "print \"Number of nodes:\" , G.number_of_nodes()"
   ]
  },
  {
   "cell_type": "markdown",
   "metadata": {},
   "source": [
    "#### 4)Print Indegree of each Node (this mean the nominations each student received) "
   ]
  },
  {
   "cell_type": "code",
   "execution_count": 8,
   "metadata": {
    "collapsed": false
   },
   "outputs": [
    {
     "data": {
      "text/plain": [
       "[(u'Louise', 2),\n",
       " (u'Ellen', 2),\n",
       " (u'Ada', 1),\n",
       " (u'Jane', 2),\n",
       " (u'Ruth', 0),\n",
       " (u'Mary', 2),\n",
       " (u'Anna', 3),\n",
       " (u'Lena', 2),\n",
       " (u'Martha', 2),\n",
       " (u'Cora', 1),\n",
       " (u'Ella', 0),\n",
       " (u'Hazel', 1),\n",
       " (u'Frances', 2),\n",
       " (u'Helen', 3),\n",
       " (u'Adele', 3),\n",
       " (u'Eva', 6),\n",
       " (u'Alice', 0),\n",
       " (u'Betty', 1),\n",
       " (u'Jean', 2),\n",
       " (u'Robin', 1),\n",
       " (u'Maxine', 2),\n",
       " (u'Edna', 4),\n",
       " (u'Hilda', 4),\n",
       " (u'Laura', 0),\n",
       " (u'Marion', 6),\n",
       " (u'Irene', 0)]"
      ]
     },
     "execution_count": 8,
     "metadata": {},
     "output_type": "execute_result"
    }
   ],
   "source": [
    "indegrees=list(G.in_degree())\n",
    "indegrees"
   ]
  },
  {
   "cell_type": "code",
   "execution_count": 9,
   "metadata": {
    "collapsed": false
   },
   "outputs": [
    {
     "data": {
      "text/plain": [
       "[('Louise', 4), ('Ellen', 4), ('Ada', 3)]"
      ]
     },
     "execution_count": 9,
     "metadata": {},
     "output_type": "execute_result"
    }
   ],
   "source": [
    "list(G.degree(['Louise','Ellen','Ada']))"
   ]
  },
  {
   "cell_type": "code",
   "execution_count": 10,
   "metadata": {
    "collapsed": false
   },
   "outputs": [
    {
     "data": {
      "text/plain": [
       "4"
      ]
     },
     "execution_count": 10,
     "metadata": {},
     "output_type": "execute_result"
    }
   ],
   "source": [
    "G.degree('Louise')"
   ]
  },
  {
   "cell_type": "markdown",
   "metadata": {},
   "source": [
    "#### 5) Print outdegree of each Node (this the the nomination each student was allowed to make)"
   ]
  },
  {
   "cell_type": "code",
   "execution_count": 11,
   "metadata": {
    "collapsed": false
   },
   "outputs": [
    {
     "data": {
      "text/plain": [
       "[(u'Louise', 2),\n",
       " (u'Ellen', 2),\n",
       " (u'Ada', 2),\n",
       " (u'Jane', 2),\n",
       " (u'Ruth', 2),\n",
       " (u'Mary', 2),\n",
       " (u'Anna', 2),\n",
       " (u'Lena', 2),\n",
       " (u'Martha', 2),\n",
       " (u'Cora', 2),\n",
       " (u'Ella', 2),\n",
       " (u'Hazel', 2),\n",
       " (u'Frances', 2),\n",
       " (u'Helen', 2),\n",
       " (u'Adele', 2),\n",
       " (u'Eva', 2),\n",
       " (u'Alice', 2),\n",
       " (u'Betty', 2),\n",
       " (u'Jean', 2),\n",
       " (u'Robin', 2),\n",
       " (u'Maxine', 2),\n",
       " (u'Edna', 2),\n",
       " (u'Hilda', 2),\n",
       " (u'Laura', 2),\n",
       " (u'Marion', 2),\n",
       " (u'Irene', 2)]"
      ]
     },
     "execution_count": 11,
     "metadata": {},
     "output_type": "execute_result"
    }
   ],
   "source": [
    "outdegrees=list(G.out_degree())\n",
    "outdegrees"
   ]
  },
  {
   "cell_type": "markdown",
   "metadata": {},
   "source": [
    "#### 6)Print the degree of each node. In a directed graph k=kin+kout"
   ]
  },
  {
   "cell_type": "code",
   "execution_count": 12,
   "metadata": {
    "collapsed": false
   },
   "outputs": [
    {
     "data": {
      "text/plain": [
       "[(u'Louise', 4),\n",
       " (u'Ellen', 4),\n",
       " (u'Ada', 3),\n",
       " (u'Jane', 4),\n",
       " (u'Ruth', 2),\n",
       " (u'Mary', 4),\n",
       " (u'Anna', 5),\n",
       " (u'Lena', 4),\n",
       " (u'Martha', 4),\n",
       " (u'Cora', 3),\n",
       " (u'Ella', 2),\n",
       " (u'Hazel', 3),\n",
       " (u'Frances', 4),\n",
       " (u'Helen', 5),\n",
       " (u'Adele', 5),\n",
       " (u'Eva', 8),\n",
       " (u'Alice', 2),\n",
       " (u'Betty', 3),\n",
       " (u'Jean', 4),\n",
       " (u'Robin', 3),\n",
       " (u'Maxine', 4),\n",
       " (u'Edna', 6),\n",
       " (u'Hilda', 6),\n",
       " (u'Laura', 2),\n",
       " (u'Marion', 8),\n",
       " (u'Irene', 2)]"
      ]
     },
     "execution_count": 12,
     "metadata": {},
     "output_type": "execute_result"
    }
   ],
   "source": [
    "degrees=list(G.degree())\n",
    "degrees"
   ]
  },
  {
   "cell_type": "markdown",
   "metadata": {},
   "source": [
    "#### 7) Calculate the mean values of degree, indegree and outdegree. Show the same using number of nodes and number of edges only "
   ]
  },
  {
   "cell_type": "code",
   "execution_count": 29,
   "metadata": {
    "collapsed": false
   },
   "outputs": [
    {
     "name": "stdout",
     "output_type": "stream",
     "text": [
      "Mean Degree:  4.0  also written as:  4.0\n",
      "Mean In-degree:  2.0  also written as:  2\n",
      "Mean Out-degree:  2.0  also written as:  2\n"
     ]
    }
   ],
   "source": [
    "print \"Mean Degree: \", np.mean(dict(degrees).values()), \" also written as: \",2.0*G.number_of_edges()/G.number_of_nodes()\n",
    "print \"Mean In-degree: \", np.mean(dict(indegrees).values()),\" also written as: \",G.number_of_edges()/G.number_of_nodes()\n",
    "print \"Mean Out-degree: \", np.mean(dict(outdegrees).values()),\" also written as: \",G.number_of_edges()/G.number_of_nodes()"
   ]
  },
  {
   "cell_type": "markdown",
   "metadata": {},
   "source": [
    "### Now we  explore the values in the undirected representation of the Graph"
   ]
  },
  {
   "cell_type": "markdown",
   "metadata": {},
   "source": [
    "#### 8)Average degree of G2"
   ]
  },
  {
   "cell_type": "code",
   "execution_count": 30,
   "metadata": {
    "collapsed": false
   },
   "outputs": [
    {
     "data": {
      "text/plain": [
       "3.230769230769231"
      ]
     },
     "execution_count": 30,
     "metadata": {},
     "output_type": "execute_result"
    }
   ],
   "source": [
    "2.0*G2.number_of_edges()/G2.number_of_nodes()"
   ]
  },
  {
   "cell_type": "markdown",
   "metadata": {},
   "source": [
    "#### 9) Degree of each node (which is a connection independent of the direction of the nomination)"
   ]
  },
  {
   "cell_type": "code",
   "execution_count": 31,
   "metadata": {
    "collapsed": false
   },
   "outputs": [
    {
     "data": {
      "text/plain": [
       "[(u'Louise', 3),\n",
       " (u'Ellen', 4),\n",
       " (u'Ada', 2),\n",
       " (u'Jane', 3),\n",
       " (u'Ruth', 2),\n",
       " (u'Mary', 2),\n",
       " (u'Anna', 5),\n",
       " (u'Lena', 3),\n",
       " (u'Martha', 3),\n",
       " (u'Cora', 2),\n",
       " (u'Ella', 2),\n",
       " (u'Hazel', 2),\n",
       " (u'Frances', 3),\n",
       " (u'Helen', 4),\n",
       " (u'Adele', 5),\n",
       " (u'Eva', 7),\n",
       " (u'Alice', 2),\n",
       " (u'Betty', 2),\n",
       " (u'Jean', 3),\n",
       " (u'Robin', 3),\n",
       " (u'Maxine', 3),\n",
       " (u'Edna', 5),\n",
       " (u'Hilda', 4),\n",
       " (u'Laura', 2),\n",
       " (u'Marion', 6),\n",
       " (u'Irene', 2)]"
      ]
     },
     "execution_count": 31,
     "metadata": {},
     "output_type": "execute_result"
    }
   ],
   "source": [
    "degrees2=list(G2.degree())\n",
    "degrees2"
   ]
  },
  {
   "cell_type": "markdown",
   "metadata": {},
   "source": [
    "#### 10) Write mean degree (and compare with definition)"
   ]
  },
  {
   "cell_type": "code",
   "execution_count": 49,
   "metadata": {
    "collapsed": false
   },
   "outputs": [
    {
     "data": {
      "text/plain": [
       "3.2307692307692308"
      ]
     },
     "execution_count": 49,
     "metadata": {},
     "output_type": "execute_result"
    }
   ],
   "source": [
    "np.mean(dict(G2.degree()).values())"
   ]
  },
  {
   "cell_type": "markdown",
   "metadata": {},
   "source": [
    "#### 11) Write the shortest path of G (the undirected version). Check function online. With that information answer question 1 of PSet 1"
   ]
  },
  {
   "cell_type": "code",
   "execution_count": 78,
   "metadata": {
    "collapsed": false
   },
   "outputs": [],
   "source": [
    "p=nx.shortest_path(G2)"
   ]
  },
  {
   "cell_type": "code",
   "execution_count": 79,
   "metadata": {
    "collapsed": false
   },
   "outputs": [
    {
     "name": "stdout",
     "output_type": "stream",
     "text": [
      "Louise has  25 paths\n",
      "[u'Louise', u'Marion', u'Eva'] and  2\n",
      "[u'Louise', u'Marion', u'Eva', u'Alice'] and  3\n",
      "[u'Louise', u'Marion', u'Eva', u'Maxine'] and  3\n",
      "[u'Louise', u'Lena', u'Anna', u'Ellen'] and  3\n",
      "[u'Louise', u'Ada'] and  1\n",
      "[u'Louise', u'Marion', u'Adele', u'Jane'] and  3\n",
      "[u'Louise', u'Ada', u'Cora', u'Jean'] and  3\n",
      "[u'Louise', u'Marion', u'Martha'] and  2\n",
      "[u'Louise', u'Marion', u'Adele', u'Edna', u'Mary'] and  4\n",
      "[u'Louise', u'Lena', u'Anna'] and  2\n",
      "[u'Louise', u'Lena'] and  1\n",
      "[u'Louise', u'Marion', u'Adele', u'Jane', u'Ruth'] and  4\n",
      "[u'Louise', u'Ada', u'Cora'] and  2\n",
      "[u'Louise', u'Marion', u'Adele', u'Edna'] and  3\n",
      "[u'Louise', u'Lena', u'Anna', u'Hazel', u'Hilda'] and  4\n",
      "[u'Louise', u'Lena', u'Anna', u'Ellen', u'Ella'] and  4\n",
      "[u'Louise', u'Lena', u'Anna', u'Hazel'] and  3\n",
      "[u'Louise', u'Marion', u'Frances'] and  2\n",
      "[u'Louise', u'Marion', u'Eva', u'Laura'] and  3\n",
      "[u'Louise', u'Marion', u'Adele'] and  2\n",
      "[u'Louise', u'Marion', u'Eva', u'Helen'] and  3\n",
      "[u'Louise', u'Marion'] and  1\n",
      "[u'Louise', u'Lena', u'Anna', u'Ellen', u'Irene'] and  4\n",
      "[u'Louise', u'Marion', u'Eva', u'Robin'] and  3\n",
      "[u'Louise', u'Marion', u'Adele', u'Edna', u'Betty'] and  4\n",
      "Ellen has  25 paths\n",
      "[u'Ellen', u'Anna', u'Lena', u'Louise'] and  3\n",
      "[u'Ellen', u'Anna', u'Maxine', u'Eva'] and  3\n",
      "[u'Ellen', u'Anna', u'Martha', u'Alice'] and  3\n",
      "[u'Ellen', u'Anna', u'Maxine'] and  2\n",
      "[u'Ellen', u'Anna', u'Lena', u'Louise', u'Ada'] and  4\n",
      "[u'Ellen', u'Edna', u'Adele', u'Jane'] and  3\n",
      "[u'Ellen', u'Ella', u'Helen', u'Jean'] and  3\n",
      "[u'Ellen', u'Irene', u'Hilda', u'Ruth'] and  3\n",
      "[u'Ellen', u'Edna', u'Mary'] and  2\n",
      "[u'Ellen', u'Anna'] and  1\n",
      "[u'Ellen', u'Anna', u'Lena'] and  2\n",
      "[u'Ellen', u'Anna', u'Martha'] and  2\n",
      "[u'Ellen', u'Ella', u'Helen', u'Jean', u'Cora'] and  4\n",
      "[u'Ellen', u'Edna'] and  1\n",
      "[u'Ellen', u'Irene', u'Hilda'] and  2\n",
      "[u'Ellen', u'Ella'] and  1\n",
      "[u'Ellen', u'Anna', u'Hazel'] and  2\n",
      "[u'Ellen', u'Edna', u'Adele', u'Frances'] and  3\n",
      "[u'Ellen', u'Edna', u'Laura'] and  2\n",
      "[u'Ellen', u'Anna', u'Lena', u'Marion'] and  3\n",
      "[u'Ellen', u'Ella', u'Helen'] and  2\n",
      "[u'Ellen', u'Edna', u'Adele'] and  2\n",
      "[u'Ellen', u'Irene'] and  1\n",
      "[u'Ellen', u'Ella', u'Helen', u'Robin'] and  3\n",
      "[u'Ellen', u'Edna', u'Betty'] and  2\n",
      "Ada has  25 paths\n",
      "[u'Ada', u'Louise'] and  1\n",
      "[u'Ada', u'Louise', u'Marion', u'Eva'] and  3\n",
      "[u'Ada', u'Louise', u'Marion', u'Eva', u'Alice'] and  4\n",
      "[u'Ada', u'Louise', u'Marion', u'Eva', u'Maxine'] and  4\n",
      "[u'Ada', u'Louise', u'Lena', u'Anna', u'Ellen'] and  4\n",
      "[u'Ada', u'Louise', u'Marion', u'Adele', u'Jane'] and  4\n",
      "[u'Ada', u'Cora', u'Jean'] and  2\n",
      "[u'Ada', u'Louise', u'Marion', u'Martha'] and  3\n",
      "[u'Ada', u'Louise', u'Marion', u'Adele', u'Edna', u'Mary'] and  5\n",
      "[u'Ada', u'Louise', u'Lena', u'Anna'] and  3\n",
      "[u'Ada', u'Louise', u'Lena'] and  2\n",
      "[u'Ada', u'Louise', u'Marion', u'Adele', u'Jane', u'Ruth'] and  5\n",
      "[u'Ada', u'Cora'] and  1\n",
      "[u'Ada', u'Louise', u'Marion', u'Adele', u'Edna'] and  4\n",
      "[u'Ada', u'Louise', u'Lena', u'Anna', u'Hazel', u'Hilda'] and  5\n",
      "[u'Ada', u'Cora', u'Jean', u'Helen', u'Ella'] and  4\n",
      "[u'Ada', u'Louise', u'Lena', u'Anna', u'Hazel'] and  4\n",
      "[u'Ada', u'Louise', u'Marion', u'Frances'] and  3\n",
      "[u'Ada', u'Louise', u'Marion', u'Eva', u'Laura'] and  4\n",
      "[u'Ada', u'Louise', u'Marion', u'Adele'] and  3\n",
      "[u'Ada', u'Cora', u'Jean', u'Helen'] and  3\n",
      "[u'Ada', u'Louise', u'Marion'] and  2\n",
      "[u'Ada', u'Louise', u'Lena', u'Anna', u'Ellen', u'Irene'] and  5\n",
      "[u'Ada', u'Cora', u'Jean', u'Robin'] and  3\n",
      "[u'Ada', u'Louise', u'Marion', u'Adele', u'Edna', u'Betty'] and  5\n",
      "Jane has  25 paths\n",
      "[u'Jane', u'Adele', u'Marion', u'Louise'] and  3\n",
      "[u'Jane', u'Adele', u'Maxine', u'Eva'] and  3\n",
      "[u'Jane', u'Adele', u'Maxine', u'Eva', u'Alice'] and  4\n",
      "[u'Jane', u'Adele', u'Maxine'] and  2\n",
      "[u'Jane', u'Adele', u'Edna', u'Ellen'] and  3\n",
      "[u'Jane', u'Adele', u'Marion', u'Louise', u'Ada'] and  4\n",
      "[u'Jane', u'Adele', u'Maxine', u'Eva', u'Helen', u'Jean'] and  5\n",
      "[u'Jane', u'Adele', u'Marion', u'Martha'] and  3\n",
      "[u'Jane', u'Mary'] and  1\n",
      "[u'Jane', u'Adele', u'Maxine', u'Anna'] and  3\n",
      "[u'Jane', u'Adele', u'Marion', u'Lena'] and  3\n",
      "[u'Jane', u'Ruth'] and  1\n",
      "[u'Jane', u'Adele', u'Marion', u'Louise', u'Ada', u'Cora'] and  5\n",
      "[u'Jane', u'Adele', u'Edna'] and  2\n",
      "[u'Jane', u'Ruth', u'Hilda'] and  2\n",
      "[u'Jane', u'Adele', u'Edna', u'Ellen', u'Ella'] and  4\n",
      "[u'Jane', u'Ruth', u'Hilda', u'Hazel'] and  3\n",
      "[u'Jane', u'Adele', u'Frances'] and  2\n",
      "[u'Jane', u'Adele', u'Edna', u'Laura'] and  3\n",
      "[u'Jane', u'Adele', u'Marion'] and  2\n",
      "[u'Jane', u'Adele', u'Maxine', u'Eva', u'Helen'] and  4\n",
      "[u'Jane', u'Adele'] and  1\n",
      "[u'Jane', u'Ruth', u'Hilda', u'Irene'] and  3\n",
      "[u'Jane', u'Adele', u'Maxine', u'Eva', u'Robin'] and  4\n",
      "[u'Jane', u'Adele', u'Edna', u'Betty'] and  3\n",
      "Ruth has  25 paths\n",
      "[u'Ruth', u'Jane', u'Adele', u'Marion', u'Louise'] and  4\n",
      "[u'Ruth', u'Jane', u'Adele', u'Maxine', u'Eva'] and  4\n",
      "[u'Ruth', u'Jane', u'Adele', u'Maxine', u'Eva', u'Alice'] and  5\n",
      "[u'Ruth', u'Jane', u'Adele', u'Maxine'] and  3\n",
      "[u'Ruth', u'Hilda', u'Irene', u'Ellen'] and  3\n",
      "[u'Ruth', u'Jane', u'Adele', u'Marion', u'Louise', u'Ada'] and  5\n",
      "[u'Ruth', u'Jane'] and  1\n",
      "[u'Ruth', u'Jane', u'Adele', u'Maxine', u'Eva', u'Helen', u'Jean'] and  6\n",
      "[u'Ruth', u'Jane', u'Adele', u'Marion', u'Martha'] and  4\n",
      "[u'Ruth', u'Jane', u'Mary'] and  2\n",
      "[u'Ruth', u'Hilda', u'Hazel', u'Anna'] and  3\n",
      "[u'Ruth', u'Jane', u'Adele', u'Marion', u'Lena'] and  4\n",
      "[u'Ruth', u'Jane', u'Adele', u'Marion', u'Louise', u'Ada', u'Cora'] and  6\n",
      "[u'Ruth', u'Jane', u'Adele', u'Edna'] and  3\n",
      "[u'Ruth', u'Hilda'] and  1\n",
      "[u'Ruth', u'Hilda', u'Irene', u'Ellen', u'Ella'] and  4\n",
      "[u'Ruth', u'Hilda', u'Hazel'] and  2\n",
      "[u'Ruth', u'Jane', u'Adele', u'Frances'] and  3\n",
      "[u'Ruth', u'Jane', u'Adele', u'Edna', u'Laura'] and  4\n",
      "[u'Ruth', u'Jane', u'Adele', u'Marion'] and  3\n",
      "[u'Ruth', u'Jane', u'Adele', u'Maxine', u'Eva', u'Helen'] and  5\n",
      "[u'Ruth', u'Jane', u'Adele'] and  2\n",
      "[u'Ruth', u'Hilda', u'Irene'] and  2\n",
      "[u'Ruth', u'Jane', u'Adele', u'Maxine', u'Eva', u'Robin'] and  5\n",
      "[u'Ruth', u'Hilda', u'Betty'] and  2\n",
      "Mary has  25 paths\n",
      "[u'Mary', u'Jane', u'Adele', u'Marion', u'Louise'] and  4\n",
      "[u'Mary', u'Edna', u'Laura', u'Eva'] and  3\n",
      "[u'Mary', u'Edna', u'Laura', u'Eva', u'Alice'] and  4\n",
      "[u'Mary', u'Jane', u'Adele', u'Maxine'] and  3\n",
      "[u'Mary', u'Edna', u'Ellen'] and  2\n",
      "[u'Mary', u'Jane', u'Adele', u'Marion', u'Louise', u'Ada'] and  5\n",
      "[u'Mary', u'Jane'] and  1\n",
      "[u'Mary', u'Edna', u'Laura', u'Eva', u'Helen', u'Jean'] and  5\n",
      "[u'Mary', u'Jane', u'Adele', u'Marion', u'Martha'] and  4\n",
      "[u'Mary', u'Edna', u'Ellen', u'Anna'] and  3\n",
      "[u'Mary', u'Jane', u'Adele', u'Marion', u'Lena'] and  4\n",
      "[u'Mary', u'Jane', u'Ruth'] and  2\n",
      "[u'Mary', u'Edna', u'Laura', u'Eva', u'Helen', u'Jean', u'Cora'] and  6\n",
      "[u'Mary', u'Edna'] and  1\n",
      "[u'Mary', u'Jane', u'Ruth', u'Hilda'] and  3\n",
      "[u'Mary', u'Edna', u'Ellen', u'Ella'] and  3\n",
      "[u'Mary', u'Jane', u'Ruth', u'Hilda', u'Hazel'] and  4\n",
      "[u'Mary', u'Jane', u'Adele', u'Frances'] and  3\n",
      "[u'Mary', u'Edna', u'Laura'] and  2\n",
      "[u'Mary', u'Jane', u'Adele', u'Marion'] and  3\n",
      "[u'Mary', u'Edna', u'Laura', u'Eva', u'Helen'] and  4\n",
      "[u'Mary', u'Jane', u'Adele'] and  2\n",
      "[u'Mary', u'Edna', u'Ellen', u'Irene'] and  3\n",
      "[u'Mary', u'Edna', u'Laura', u'Eva', u'Robin'] and  4\n",
      "[u'Mary', u'Edna', u'Betty'] and  2\n",
      "Anna has  25 paths\n",
      "[u'Anna', u'Lena', u'Louise'] and  2\n",
      "[u'Anna', u'Maxine', u'Eva'] and  2\n",
      "[u'Anna', u'Martha', u'Alice'] and  2\n",
      "[u'Anna', u'Maxine'] and  1\n",
      "[u'Anna', u'Ellen'] and  1\n",
      "[u'Anna', u'Lena', u'Louise', u'Ada'] and  3\n",
      "[u'Anna', u'Maxine', u'Adele', u'Jane'] and  3\n",
      "[u'Anna', u'Maxine', u'Eva', u'Helen', u'Jean'] and  4\n",
      "[u'Anna', u'Martha'] and  1\n",
      "[u'Anna', u'Ellen', u'Edna', u'Mary'] and  3\n",
      "[u'Anna', u'Lena'] and  1\n",
      "[u'Anna', u'Hazel', u'Hilda', u'Ruth'] and  3\n",
      "[u'Anna', u'Lena', u'Louise', u'Ada', u'Cora'] and  4\n",
      "[u'Anna', u'Ellen', u'Edna'] and  2\n",
      "[u'Anna', u'Hazel', u'Hilda'] and  2\n",
      "[u'Anna', u'Ellen', u'Ella'] and  2\n",
      "[u'Anna', u'Hazel'] and  1\n",
      "[u'Anna', u'Maxine', u'Eva', u'Frances'] and  3\n",
      "[u'Anna', u'Ellen', u'Edna', u'Laura'] and  3\n",
      "[u'Anna', u'Martha', u'Marion'] and  2\n",
      "[u'Anna', u'Maxine', u'Eva', u'Helen'] and  3\n",
      "[u'Anna', u'Maxine', u'Adele'] and  2\n",
      "[u'Anna', u'Ellen', u'Irene'] and  2\n",
      "[u'Anna', u'Maxine', u'Eva', u'Robin'] and  3\n",
      "[u'Anna', u'Ellen', u'Edna', u'Betty'] and  3\n",
      "Lena has  25 paths\n",
      "[u'Lena', u'Louise'] and  1\n",
      "[u'Lena', u'Marion', u'Eva'] and  2\n",
      "[u'Lena', u'Marion', u'Eva', u'Alice'] and  3\n",
      "[u'Lena', u'Anna', u'Maxine'] and  2\n",
      "[u'Lena', u'Anna', u'Ellen'] and  2\n",
      "[u'Lena', u'Louise', u'Ada'] and  2\n",
      "[u'Lena', u'Marion', u'Adele', u'Jane'] and  3\n",
      "[u'Lena', u'Louise', u'Ada', u'Cora', u'Jean'] and  4\n",
      "[u'Lena', u'Marion', u'Martha'] and  2\n",
      "[u'Lena', u'Marion', u'Adele', u'Edna', u'Mary'] and  4\n",
      "[u'Lena', u'Anna'] and  1\n",
      "[u'Lena', u'Anna', u'Hazel', u'Hilda', u'Ruth'] and  4\n",
      "[u'Lena', u'Louise', u'Ada', u'Cora'] and  3\n",
      "[u'Lena', u'Marion', u'Adele', u'Edna'] and  3\n",
      "[u'Lena', u'Anna', u'Hazel', u'Hilda'] and  3\n",
      "[u'Lena', u'Anna', u'Ellen', u'Ella'] and  3\n",
      "[u'Lena', u'Anna', u'Hazel'] and  2\n",
      "[u'Lena', u'Marion', u'Frances'] and  2\n",
      "[u'Lena', u'Marion', u'Eva', u'Laura'] and  3\n",
      "[u'Lena', u'Marion', u'Adele'] and  2\n",
      "[u'Lena', u'Marion', u'Eva', u'Helen'] and  3\n",
      "[u'Lena', u'Marion'] and  1\n",
      "[u'Lena', u'Anna', u'Ellen', u'Irene'] and  3\n",
      "[u'Lena', u'Marion', u'Eva', u'Robin'] and  3\n",
      "[u'Lena', u'Marion', u'Adele', u'Edna', u'Betty'] and  4\n",
      "Martha has  25 paths\n",
      "[u'Martha', u'Marion', u'Louise'] and  2\n",
      "[u'Martha', u'Marion', u'Eva'] and  2\n",
      "[u'Martha', u'Alice'] and  1\n",
      "[u'Martha', u'Anna', u'Maxine'] and  2\n",
      "[u'Martha', u'Anna', u'Ellen'] and  2\n",
      "[u'Martha', u'Marion', u'Louise', u'Ada'] and  3\n",
      "[u'Martha', u'Marion', u'Adele', u'Jane'] and  3\n",
      "[u'Martha', u'Marion', u'Eva', u'Helen', u'Jean'] and  4\n",
      "[u'Martha', u'Marion', u'Adele', u'Edna', u'Mary'] and  4\n",
      "[u'Martha', u'Anna'] and  1\n",
      "[u'Martha', u'Marion', u'Lena'] and  2\n",
      "[u'Martha', u'Anna', u'Hazel', u'Hilda', u'Ruth'] and  4\n",
      "[u'Martha', u'Marion', u'Louise', u'Ada', u'Cora'] and  4\n",
      "[u'Martha', u'Marion', u'Adele', u'Edna'] and  3\n",
      "[u'Martha', u'Anna', u'Hazel', u'Hilda'] and  3\n",
      "[u'Martha', u'Anna', u'Ellen', u'Ella'] and  3\n",
      "[u'Martha', u'Anna', u'Hazel'] and  2\n",
      "[u'Martha', u'Marion', u'Frances'] and  2\n",
      "[u'Martha', u'Marion', u'Eva', u'Laura'] and  3\n",
      "[u'Martha', u'Marion', u'Adele'] and  2\n",
      "[u'Martha', u'Marion', u'Eva', u'Helen'] and  3\n",
      "[u'Martha', u'Marion'] and  1\n",
      "[u'Martha', u'Anna', u'Ellen', u'Irene'] and  3\n",
      "[u'Martha', u'Marion', u'Eva', u'Robin'] and  3\n",
      "[u'Martha', u'Marion', u'Adele', u'Edna', u'Betty'] and  4\n",
      "Cora has  25 paths\n",
      "[u'Cora', u'Ada', u'Louise'] and  2\n",
      "[u'Cora', u'Jean', u'Robin', u'Eva'] and  3\n",
      "[u'Cora', u'Jean', u'Robin', u'Eva', u'Alice'] and  4\n",
      "[u'Cora', u'Jean', u'Robin', u'Eva', u'Maxine'] and  4\n",
      "[u'Cora', u'Jean', u'Helen', u'Ella', u'Ellen'] and  4\n",
      "[u'Cora', u'Ada'] and  1\n",
      "[u'Cora', u'Ada', u'Louise', u'Marion', u'Adele', u'Jane'] and  5\n",
      "[u'Cora', u'Jean'] and  1\n",
      "[u'Cora', u'Ada', u'Louise', u'Marion', u'Martha'] and  4\n",
      "[u'Cora', u'Jean', u'Robin', u'Eva', u'Laura', u'Edna', u'Mary'] and  6\n",
      "[u'Cora', u'Ada', u'Louise', u'Lena', u'Anna'] and  4\n",
      "[u'Cora', u'Ada', u'Louise', u'Lena'] and  3\n",
      "[u'Cora', u'Ada', u'Louise', u'Marion', u'Adele', u'Jane', u'Ruth'] and  6\n",
      "[u'Cora', u'Jean', u'Robin', u'Eva', u'Laura', u'Edna'] and  5\n",
      "[u'Cora', u'Ada', u'Louise', u'Lena', u'Anna', u'Hazel', u'Hilda'] and  6\n",
      "[u'Cora', u'Jean', u'Helen', u'Ella'] and  3\n",
      "[u'Cora', u'Ada', u'Louise', u'Lena', u'Anna', u'Hazel'] and  5\n",
      "[u'Cora', u'Jean', u'Robin', u'Eva', u'Frances'] and  4\n",
      "[u'Cora', u'Jean', u'Robin', u'Eva', u'Laura'] and  4\n",
      "[u'Cora', u'Ada', u'Louise', u'Marion', u'Adele'] and  4\n",
      "[u'Cora', u'Jean', u'Helen'] and  2\n",
      "[u'Cora', u'Ada', u'Louise', u'Marion'] and  3\n",
      "[u'Cora', u'Jean', u'Helen', u'Ella', u'Ellen', u'Irene'] and  5\n",
      "[u'Cora', u'Jean', u'Robin'] and  2\n",
      "[u'Cora', u'Jean', u'Robin', u'Eva', u'Laura', u'Edna', u'Betty'] and  6\n",
      "Ella has  25 paths\n",
      "[u'Ella', u'Ellen', u'Anna', u'Lena', u'Louise'] and  4\n",
      "[u'Ella', u'Helen', u'Eva'] and  2\n",
      "[u'Ella', u'Helen', u'Eva', u'Alice'] and  3\n",
      "[u'Ella', u'Helen', u'Eva', u'Maxine'] and  3\n",
      "[u'Ella', u'Ellen'] and  1\n",
      "[u'Ella', u'Helen', u'Jean', u'Cora', u'Ada'] and  4\n",
      "[u'Ella', u'Ellen', u'Edna', u'Adele', u'Jane'] and  4\n",
      "[u'Ella', u'Helen', u'Jean'] and  2\n",
      "[u'Ella', u'Ellen', u'Anna', u'Martha'] and  3\n",
      "[u'Ella', u'Ellen', u'Edna', u'Mary'] and  3\n",
      "[u'Ella', u'Ellen', u'Anna'] and  2\n",
      "[u'Ella', u'Ellen', u'Anna', u'Lena'] and  3\n",
      "[u'Ella', u'Ellen', u'Irene', u'Hilda', u'Ruth'] and  4\n",
      "[u'Ella', u'Helen', u'Jean', u'Cora'] and  3\n",
      "[u'Ella', u'Ellen', u'Edna'] and  2\n",
      "[u'Ella', u'Ellen', u'Irene', u'Hilda'] and  3\n",
      "[u'Ella', u'Ellen', u'Anna', u'Hazel'] and  3\n",
      "[u'Ella', u'Helen', u'Eva', u'Frances'] and  3\n",
      "[u'Ella', u'Ellen', u'Edna', u'Laura'] and  3\n",
      "[u'Ella', u'Helen', u'Eva', u'Marion'] and  3\n",
      "[u'Ella', u'Helen'] and  1\n",
      "[u'Ella', u'Ellen', u'Edna', u'Adele'] and  3\n",
      "[u'Ella', u'Ellen', u'Irene'] and  2\n",
      "[u'Ella', u'Helen', u'Robin'] and  2\n",
      "[u'Ella', u'Ellen', u'Edna', u'Betty'] and  3\n",
      "Hazel has  25 paths\n",
      "[u'Hazel', u'Anna', u'Lena', u'Louise'] and  3\n",
      "[u'Hazel', u'Anna', u'Maxine', u'Eva'] and  3\n",
      "[u'Hazel', u'Anna', u'Martha', u'Alice'] and  3\n",
      "[u'Hazel', u'Anna', u'Maxine'] and  2\n",
      "[u'Hazel', u'Anna', u'Ellen'] and  2\n",
      "[u'Hazel', u'Anna', u'Lena', u'Louise', u'Ada'] and  4\n",
      "[u'Hazel', u'Hilda', u'Ruth', u'Jane'] and  3\n",
      "[u'Hazel', u'Anna', u'Maxine', u'Eva', u'Helen', u'Jean'] and  5\n",
      "[u'Hazel', u'Hilda', u'Ruth'] and  2\n",
      "[u'Hazel', u'Anna', u'Ellen', u'Edna', u'Mary'] and  4\n",
      "[u'Hazel', u'Anna'] and  1\n",
      "[u'Hazel', u'Anna', u'Lena'] and  2\n",
      "[u'Hazel', u'Anna', u'Martha'] and  2\n",
      "[u'Hazel', u'Anna', u'Lena', u'Louise', u'Ada', u'Cora'] and  5\n",
      "[u'Hazel', u'Anna', u'Ellen', u'Edna'] and  3\n",
      "[u'Hazel', u'Hilda'] and  1\n",
      "[u'Hazel', u'Anna', u'Ellen', u'Ella'] and  3\n",
      "[u'Hazel', u'Anna', u'Maxine', u'Eva', u'Frances'] and  4\n",
      "[u'Hazel', u'Anna', u'Ellen', u'Edna', u'Laura'] and  4\n",
      "[u'Hazel', u'Anna', u'Martha', u'Marion'] and  3\n",
      "[u'Hazel', u'Anna', u'Maxine', u'Eva', u'Helen'] and  4\n",
      "[u'Hazel', u'Anna', u'Maxine', u'Adele'] and  3\n",
      "[u'Hazel', u'Hilda', u'Irene'] and  2\n",
      "[u'Hazel', u'Anna', u'Maxine', u'Eva', u'Robin'] and  4\n",
      "[u'Hazel', u'Hilda', u'Betty'] and  2\n",
      "Frances has  25 paths\n",
      "[u'Frances', u'Marion', u'Louise'] and  2\n",
      "[u'Frances', u'Eva'] and  1\n",
      "[u'Frances', u'Eva', u'Alice'] and  2\n",
      "[u'Frances', u'Eva', u'Maxine'] and  2\n",
      "[u'Frances', u'Adele', u'Edna', u'Ellen'] and  3\n",
      "[u'Frances', u'Marion', u'Louise', u'Ada'] and  3\n",
      "[u'Frances', u'Adele', u'Jane'] and  2\n",
      "[u'Frances', u'Eva', u'Helen', u'Jean'] and  3\n",
      "[u'Frances', u'Adele', u'Jane', u'Ruth'] and  3\n",
      "[u'Frances', u'Adele', u'Edna', u'Mary'] and  3\n",
      "[u'Frances', u'Eva', u'Maxine', u'Anna'] and  3\n",
      "[u'Frances', u'Marion', u'Lena'] and  2\n",
      "[u'Frances', u'Marion', u'Martha'] and  2\n",
      "[u'Frances', u'Marion', u'Louise', u'Ada', u'Cora'] and  4\n",
      "[u'Frances', u'Adele', u'Edna'] and  2\n",
      "[u'Frances', u'Adele', u'Edna', u'Betty', u'Hilda'] and  4\n",
      "[u'Frances', u'Eva', u'Helen', u'Ella'] and  3\n",
      "[u'Frances', u'Eva', u'Maxine', u'Anna', u'Hazel'] and  4\n",
      "[u'Frances', u'Eva', u'Laura'] and  2\n",
      "[u'Frances', u'Adele'] and  1\n",
      "[u'Frances', u'Eva', u'Helen'] and  2\n",
      "[u'Frances', u'Marion'] and  1\n",
      "[u'Frances', u'Adele', u'Edna', u'Ellen', u'Irene'] and  4\n",
      "[u'Frances', u'Eva', u'Robin'] and  2\n",
      "[u'Frances', u'Adele', u'Edna', u'Betty'] and  3\n",
      "Helen has  25 paths\n",
      "[u'Helen', u'Eva', u'Marion', u'Louise'] and  3\n",
      "[u'Helen', u'Eva'] and  1\n",
      "[u'Helen', u'Eva', u'Alice'] and  2\n",
      "[u'Helen', u'Eva', u'Maxine'] and  2\n",
      "[u'Helen', u'Ella', u'Ellen'] and  2\n",
      "[u'Helen', u'Jean', u'Cora', u'Ada'] and  3\n",
      "[u'Helen', u'Eva', u'Maxine', u'Adele', u'Jane'] and  4\n",
      "[u'Helen', u'Jean'] and  1\n",
      "[u'Helen', u'Eva', u'Alice', u'Martha'] and  3\n",
      "[u'Helen', u'Eva', u'Laura', u'Edna', u'Mary'] and  4\n",
      "[u'Helen', u'Eva', u'Maxine', u'Anna'] and  3\n",
      "[u'Helen', u'Eva', u'Marion', u'Lena'] and  3\n",
      "[u'Helen', u'Eva', u'Maxine', u'Adele', u'Jane', u'Ruth'] and  5\n",
      "[u'Helen', u'Jean', u'Cora'] and  2\n",
      "[u'Helen', u'Eva', u'Laura', u'Edna'] and  3\n",
      "[u'Helen', u'Ella', u'Ellen', u'Irene', u'Hilda'] and  4\n",
      "[u'Helen', u'Ella'] and  1\n",
      "[u'Helen', u'Eva', u'Maxine', u'Anna', u'Hazel'] and  4\n",
      "[u'Helen', u'Eva', u'Frances'] and  2\n",
      "[u'Helen', u'Eva', u'Laura'] and  2\n",
      "[u'Helen', u'Eva', u'Maxine', u'Adele'] and  3\n",
      "[u'Helen', u'Eva', u'Marion'] and  2\n",
      "[u'Helen', u'Ella', u'Ellen', u'Irene'] and  3\n",
      "[u'Helen', u'Robin'] and  1\n",
      "[u'Helen', u'Eva', u'Laura', u'Edna', u'Betty'] and  4\n",
      "Adele has  25 paths\n",
      "[u'Adele', u'Marion', u'Louise'] and  2\n",
      "[u'Adele', u'Maxine', u'Eva'] and  2\n",
      "[u'Adele', u'Marion', u'Martha', u'Alice'] and  3\n",
      "[u'Adele', u'Maxine'] and  1\n",
      "[u'Adele', u'Edna', u'Ellen'] and  2\n",
      "[u'Adele', u'Marion', u'Louise', u'Ada'] and  3\n",
      "[u'Adele', u'Jane'] and  1\n",
      "[u'Adele', u'Maxine', u'Eva', u'Helen', u'Jean'] and  4\n",
      "[u'Adele', u'Marion', u'Martha'] and  2\n",
      "[u'Adele', u'Jane', u'Mary'] and  2\n",
      "[u'Adele', u'Maxine', u'Anna'] and  2\n",
      "[u'Adele', u'Marion', u'Lena'] and  2\n",
      "[u'Adele', u'Jane', u'Ruth'] and  2\n",
      "[u'Adele', u'Marion', u'Louise', u'Ada', u'Cora'] and  4\n",
      "[u'Adele', u'Edna'] and  1\n",
      "[u'Adele', u'Edna', u'Betty', u'Hilda'] and  3\n",
      "[u'Adele', u'Edna', u'Ellen', u'Ella'] and  3\n",
      "[u'Adele', u'Maxine', u'Anna', u'Hazel'] and  3\n",
      "[u'Adele', u'Frances'] and  1\n",
      "[u'Adele', u'Edna', u'Laura'] and  2\n",
      "[u'Adele', u'Maxine', u'Eva', u'Helen'] and  3\n",
      "[u'Adele', u'Marion'] and  1\n",
      "[u'Adele', u'Edna', u'Ellen', u'Irene'] and  3\n",
      "[u'Adele', u'Maxine', u'Eva', u'Robin'] and  3\n",
      "[u'Adele', u'Edna', u'Betty'] and  2\n",
      "Eva has  25 paths\n",
      "[u'Eva', u'Marion', u'Louise'] and  2\n",
      "[u'Eva', u'Alice'] and  1\n",
      "[u'Eva', u'Maxine'] and  1\n",
      "[u'Eva', u'Laura', u'Edna', u'Ellen'] and  3\n",
      "[u'Eva', u'Marion', u'Louise', u'Ada'] and  3\n",
      "[u'Eva', u'Maxine', u'Adele', u'Jane'] and  3\n",
      "[u'Eva', u'Helen', u'Jean'] and  2\n",
      "[u'Eva', u'Alice', u'Martha'] and  2\n",
      "[u'Eva', u'Laura', u'Edna', u'Mary'] and  3\n",
      "[u'Eva', u'Maxine', u'Anna'] and  2\n",
      "[u'Eva', u'Marion', u'Lena'] and  2\n",
      "[u'Eva', u'Maxine', u'Adele', u'Jane', u'Ruth'] and  4\n",
      "[u'Eva', u'Helen', u'Jean', u'Cora'] and  3\n",
      "[u'Eva', u'Laura', u'Edna'] and  2\n",
      "[u'Eva', u'Maxine', u'Anna', u'Hazel', u'Hilda'] and  4\n",
      "[u'Eva', u'Helen', u'Ella'] and  2\n",
      "[u'Eva', u'Maxine', u'Anna', u'Hazel'] and  3\n",
      "[u'Eva', u'Frances'] and  1\n",
      "[u'Eva', u'Laura'] and  1\n",
      "[u'Eva', u'Maxine', u'Adele'] and  2\n",
      "[u'Eva', u'Helen'] and  1\n",
      "[u'Eva', u'Marion'] and  1\n",
      "[u'Eva', u'Laura', u'Edna', u'Ellen', u'Irene'] and  4\n",
      "[u'Eva', u'Robin'] and  1\n",
      "[u'Eva', u'Laura', u'Edna', u'Betty'] and  3\n",
      "Alice has  25 paths\n",
      "[u'Alice', u'Eva', u'Marion', u'Louise'] and  3\n",
      "[u'Alice', u'Eva'] and  1\n",
      "[u'Alice', u'Eva', u'Maxine'] and  2\n",
      "[u'Alice', u'Martha', u'Anna', u'Ellen'] and  3\n",
      "[u'Alice', u'Eva', u'Marion', u'Louise', u'Ada'] and  4\n",
      "[u'Alice', u'Eva', u'Maxine', u'Adele', u'Jane'] and  4\n",
      "[u'Alice', u'Eva', u'Helen', u'Jean'] and  3\n",
      "[u'Alice', u'Martha'] and  1\n",
      "[u'Alice', u'Eva', u'Laura', u'Edna', u'Mary'] and  4\n",
      "[u'Alice', u'Martha', u'Anna'] and  2\n",
      "[u'Alice', u'Eva', u'Marion', u'Lena'] and  3\n",
      "[u'Alice', u'Martha', u'Anna', u'Hazel', u'Hilda', u'Ruth'] and  5\n",
      "[u'Alice', u'Eva', u'Helen', u'Jean', u'Cora'] and  4\n",
      "[u'Alice', u'Eva', u'Laura', u'Edna'] and  3\n",
      "[u'Alice', u'Martha', u'Anna', u'Hazel', u'Hilda'] and  4\n",
      "[u'Alice', u'Eva', u'Helen', u'Ella'] and  3\n",
      "[u'Alice', u'Martha', u'Anna', u'Hazel'] and  3\n",
      "[u'Alice', u'Eva', u'Frances'] and  2\n",
      "[u'Alice', u'Eva', u'Laura'] and  2\n",
      "[u'Alice', u'Eva', u'Maxine', u'Adele'] and  3\n",
      "[u'Alice', u'Eva', u'Helen'] and  2\n",
      "[u'Alice', u'Eva', u'Marion'] and  2\n",
      "[u'Alice', u'Martha', u'Anna', u'Ellen', u'Irene'] and  4\n",
      "[u'Alice', u'Eva', u'Robin'] and  2\n",
      "[u'Alice', u'Eva', u'Laura', u'Edna', u'Betty'] and  4\n",
      "Betty has  25 paths\n",
      "[u'Betty', u'Edna', u'Adele', u'Marion', u'Louise'] and  4\n",
      "[u'Betty', u'Edna', u'Laura', u'Eva'] and  3\n",
      "[u'Betty', u'Edna', u'Laura', u'Eva', u'Alice'] and  4\n",
      "[u'Betty', u'Edna', u'Adele', u'Maxine'] and  3\n",
      "[u'Betty', u'Edna', u'Ellen'] and  2\n",
      "[u'Betty', u'Edna', u'Adele', u'Marion', u'Louise', u'Ada'] and  5\n",
      "[u'Betty', u'Edna', u'Adele', u'Jane'] and  3\n",
      "[u'Betty', u'Edna', u'Laura', u'Eva', u'Helen', u'Jean'] and  5\n",
      "[u'Betty', u'Hilda', u'Ruth'] and  2\n",
      "[u'Betty', u'Edna', u'Mary'] and  2\n",
      "[u'Betty', u'Hilda', u'Hazel', u'Anna'] and  3\n",
      "[u'Betty', u'Edna', u'Adele', u'Marion', u'Lena'] and  4\n",
      "[u'Betty', u'Edna', u'Adele', u'Marion', u'Martha'] and  4\n",
      "[u'Betty', u'Edna', u'Laura', u'Eva', u'Helen', u'Jean', u'Cora'] and  6\n",
      "[u'Betty', u'Edna'] and  1\n",
      "[u'Betty', u'Hilda'] and  1\n",
      "[u'Betty', u'Edna', u'Ellen', u'Ella'] and  3\n",
      "[u'Betty', u'Hilda', u'Hazel'] and  2\n",
      "[u'Betty', u'Edna', u'Adele', u'Frances'] and  3\n",
      "[u'Betty', u'Edna', u'Laura'] and  2\n",
      "[u'Betty', u'Edna', u'Adele', u'Marion'] and  3\n",
      "[u'Betty', u'Edna', u'Laura', u'Eva', u'Helen'] and  4\n",
      "[u'Betty', u'Edna', u'Adele'] and  2\n",
      "[u'Betty', u'Hilda', u'Irene'] and  2\n",
      "[u'Betty', u'Edna', u'Laura', u'Eva', u'Robin'] and  4\n",
      "Jean has  25 paths\n",
      "[u'Jean', u'Cora', u'Ada', u'Louise'] and  3\n",
      "[u'Jean', u'Helen', u'Eva'] and  2\n",
      "[u'Jean', u'Helen', u'Eva', u'Alice'] and  3\n",
      "[u'Jean', u'Helen', u'Eva', u'Maxine'] and  3\n",
      "[u'Jean', u'Helen', u'Ella', u'Ellen'] and  3\n",
      "[u'Jean', u'Cora', u'Ada'] and  2\n",
      "[u'Jean', u'Helen', u'Eva', u'Maxine', u'Adele', u'Jane'] and  5\n",
      "[u'Jean', u'Helen', u'Eva', u'Alice', u'Martha'] and  4\n",
      "[u'Jean', u'Helen', u'Eva', u'Laura', u'Edna', u'Mary'] and  5\n",
      "[u'Jean', u'Helen', u'Eva', u'Maxine', u'Anna'] and  4\n",
      "[u'Jean', u'Cora', u'Ada', u'Louise', u'Lena'] and  4\n",
      "[u'Jean', u'Helen', u'Eva', u'Maxine', u'Adele', u'Jane', u'Ruth'] and  6\n",
      "[u'Jean', u'Cora'] and  1\n",
      "[u'Jean', u'Helen', u'Eva', u'Laura', u'Edna'] and  4\n",
      "[u'Jean', u'Helen', u'Ella', u'Ellen', u'Irene', u'Hilda'] and  5\n",
      "[u'Jean', u'Helen', u'Ella'] and  2\n",
      "[u'Jean', u'Helen', u'Eva', u'Maxine', u'Anna', u'Hazel'] and  5\n",
      "[u'Jean', u'Helen', u'Eva', u'Frances'] and  3\n",
      "[u'Jean', u'Helen', u'Eva', u'Laura'] and  3\n",
      "[u'Jean', u'Helen', u'Eva', u'Maxine', u'Adele'] and  4\n",
      "[u'Jean', u'Helen'] and  1\n",
      "[u'Jean', u'Helen', u'Eva', u'Marion'] and  3\n",
      "[u'Jean', u'Helen', u'Ella', u'Ellen', u'Irene'] and  4\n",
      "[u'Jean', u'Robin'] and  1\n",
      "[u'Jean', u'Helen', u'Eva', u'Laura', u'Edna', u'Betty'] and  5\n",
      "Robin has  25 paths\n",
      "[u'Robin', u'Eva', u'Marion', u'Louise'] and  3\n",
      "[u'Robin', u'Eva'] and  1\n",
      "[u'Robin', u'Eva', u'Alice'] and  2\n",
      "[u'Robin', u'Eva', u'Maxine'] and  2\n",
      "[u'Robin', u'Helen', u'Ella', u'Ellen'] and  3\n",
      "[u'Robin', u'Jean', u'Cora', u'Ada'] and  3\n",
      "[u'Robin', u'Eva', u'Maxine', u'Adele', u'Jane'] and  4\n",
      "[u'Robin', u'Jean'] and  1\n",
      "[u'Robin', u'Eva', u'Alice', u'Martha'] and  3\n",
      "[u'Robin', u'Eva', u'Laura', u'Edna', u'Mary'] and  4\n",
      "[u'Robin', u'Eva', u'Maxine', u'Anna'] and  3\n",
      "[u'Robin', u'Eva', u'Marion', u'Lena'] and  3\n",
      "[u'Robin', u'Eva', u'Maxine', u'Adele', u'Jane', u'Ruth'] and  5\n",
      "[u'Robin', u'Jean', u'Cora'] and  2\n",
      "[u'Robin', u'Eva', u'Laura', u'Edna'] and  3\n",
      "[u'Robin', u'Eva', u'Maxine', u'Anna', u'Hazel', u'Hilda'] and  5\n",
      "[u'Robin', u'Helen', u'Ella'] and  2\n",
      "[u'Robin', u'Eva', u'Maxine', u'Anna', u'Hazel'] and  4\n",
      "[u'Robin', u'Eva', u'Frances'] and  2\n",
      "[u'Robin', u'Eva', u'Laura'] and  2\n",
      "[u'Robin', u'Eva', u'Maxine', u'Adele'] and  3\n",
      "[u'Robin', u'Helen'] and  1\n",
      "[u'Robin', u'Eva', u'Marion'] and  2\n",
      "[u'Robin', u'Helen', u'Ella', u'Ellen', u'Irene'] and  4\n",
      "[u'Robin', u'Eva', u'Laura', u'Edna', u'Betty'] and  4\n",
      "Maxine has  25 paths\n",
      "[u'Maxine', u'Anna', u'Lena', u'Louise'] and  3\n",
      "[u'Maxine', u'Eva'] and  1\n",
      "[u'Maxine', u'Eva', u'Alice'] and  2\n",
      "[u'Maxine', u'Anna', u'Ellen'] and  2\n",
      "[u'Maxine', u'Anna', u'Lena', u'Louise', u'Ada'] and  4\n",
      "[u'Maxine', u'Adele', u'Jane'] and  2\n",
      "[u'Maxine', u'Eva', u'Helen', u'Jean'] and  3\n",
      "[u'Maxine', u'Anna', u'Martha'] and  2\n",
      "[u'Maxine', u'Adele', u'Edna', u'Mary'] and  3\n",
      "[u'Maxine', u'Anna'] and  1\n",
      "[u'Maxine', u'Anna', u'Lena'] and  2\n",
      "[u'Maxine', u'Adele', u'Jane', u'Ruth'] and  3\n",
      "[u'Maxine', u'Eva', u'Helen', u'Jean', u'Cora'] and  4\n",
      "[u'Maxine', u'Adele', u'Edna'] and  2\n",
      "[u'Maxine', u'Anna', u'Hazel', u'Hilda'] and  3\n",
      "[u'Maxine', u'Anna', u'Ellen', u'Ella'] and  3\n",
      "[u'Maxine', u'Anna', u'Hazel'] and  2\n",
      "[u'Maxine', u'Eva', u'Frances'] and  2\n",
      "[u'Maxine', u'Eva', u'Laura'] and  2\n",
      "[u'Maxine', u'Eva', u'Marion'] and  2\n",
      "[u'Maxine', u'Eva', u'Helen'] and  2\n",
      "[u'Maxine', u'Adele'] and  1\n",
      "[u'Maxine', u'Anna', u'Ellen', u'Irene'] and  3\n",
      "[u'Maxine', u'Eva', u'Robin'] and  2\n",
      "[u'Maxine', u'Adele', u'Edna', u'Betty'] and  3\n",
      "Edna has  25 paths\n",
      "[u'Edna', u'Adele', u'Marion', u'Louise'] and  3\n",
      "[u'Edna', u'Laura', u'Eva'] and  2\n",
      "[u'Edna', u'Laura', u'Eva', u'Alice'] and  3\n",
      "[u'Edna', u'Adele', u'Maxine'] and  2\n",
      "[u'Edna', u'Ellen'] and  1\n",
      "[u'Edna', u'Adele', u'Marion', u'Louise', u'Ada'] and  4\n",
      "[u'Edna', u'Mary', u'Jane'] and  2\n",
      "[u'Edna', u'Laura', u'Eva', u'Helen', u'Jean'] and  4\n",
      "[u'Edna', u'Adele', u'Marion', u'Martha'] and  3\n",
      "[u'Edna', u'Mary'] and  1\n",
      "[u'Edna', u'Ellen', u'Anna'] and  2\n",
      "[u'Edna', u'Adele', u'Marion', u'Lena'] and  3\n",
      "[u'Edna', u'Mary', u'Jane', u'Ruth'] and  3\n",
      "[u'Edna', u'Laura', u'Eva', u'Helen', u'Jean', u'Cora'] and  5\n",
      "[u'Edna', u'Betty', u'Hilda'] and  2\n",
      "[u'Edna', u'Ellen', u'Ella'] and  2\n",
      "[u'Edna', u'Betty', u'Hilda', u'Hazel'] and  3\n",
      "[u'Edna', u'Adele', u'Frances'] and  2\n",
      "[u'Edna', u'Laura'] and  1\n",
      "[u'Edna', u'Adele', u'Marion'] and  2\n",
      "[u'Edna', u'Laura', u'Eva', u'Helen'] and  3\n",
      "[u'Edna', u'Adele'] and  1\n",
      "[u'Edna', u'Ellen', u'Irene'] and  2\n",
      "[u'Edna', u'Laura', u'Eva', u'Robin'] and  3\n",
      "[u'Edna', u'Betty'] and  1\n",
      "Hilda has  25 paths\n",
      "[u'Hilda', u'Hazel', u'Anna', u'Lena', u'Louise'] and  4\n",
      "[u'Hilda', u'Hazel', u'Anna', u'Maxine', u'Eva'] and  4\n",
      "[u'Hilda', u'Hazel', u'Anna', u'Martha', u'Alice'] and  4\n",
      "[u'Hilda', u'Hazel', u'Anna', u'Maxine'] and  3\n",
      "[u'Hilda', u'Irene', u'Ellen'] and  2\n",
      "[u'Hilda', u'Hazel', u'Anna', u'Lena', u'Louise', u'Ada'] and  5\n",
      "[u'Hilda', u'Ruth', u'Jane'] and  2\n",
      "[u'Hilda', u'Irene', u'Ellen', u'Ella', u'Helen', u'Jean'] and  5\n",
      "[u'Hilda', u'Hazel', u'Anna', u'Martha'] and  3\n",
      "[u'Hilda', u'Ruth', u'Jane', u'Mary'] and  3\n",
      "[u'Hilda', u'Hazel', u'Anna'] and  2\n",
      "[u'Hilda', u'Hazel', u'Anna', u'Lena'] and  3\n",
      "[u'Hilda', u'Ruth'] and  1\n",
      "[u'Hilda', u'Irene', u'Ellen', u'Ella', u'Helen', u'Jean', u'Cora'] and  6\n",
      "[u'Hilda', u'Betty', u'Edna'] and  2\n",
      "[u'Hilda', u'Irene', u'Ellen', u'Ella'] and  3\n",
      "[u'Hilda', u'Hazel'] and  1\n",
      "[u'Hilda', u'Ruth', u'Jane', u'Adele', u'Frances'] and  4\n",
      "[u'Hilda', u'Betty', u'Edna', u'Laura'] and  3\n",
      "[u'Hilda', u'Hazel', u'Anna', u'Lena', u'Marion'] and  4\n",
      "[u'Hilda', u'Irene', u'Ellen', u'Ella', u'Helen'] and  4\n",
      "[u'Hilda', u'Ruth', u'Jane', u'Adele'] and  3\n",
      "[u'Hilda', u'Irene'] and  1\n",
      "[u'Hilda', u'Hazel', u'Anna', u'Maxine', u'Eva', u'Robin'] and  5\n",
      "[u'Hilda', u'Betty'] and  1\n",
      "Laura has  25 paths\n",
      "[u'Laura', u'Eva', u'Marion', u'Louise'] and  3\n",
      "[u'Laura', u'Eva'] and  1\n",
      "[u'Laura', u'Eva', u'Alice'] and  2\n",
      "[u'Laura', u'Eva', u'Maxine'] and  2\n",
      "[u'Laura', u'Edna', u'Ellen'] and  2\n",
      "[u'Laura', u'Eva', u'Marion', u'Louise', u'Ada'] and  4\n",
      "[u'Laura', u'Edna', u'Adele', u'Jane'] and  3\n",
      "[u'Laura', u'Eva', u'Helen', u'Jean'] and  3\n",
      "[u'Laura', u'Eva', u'Alice', u'Martha'] and  3\n",
      "[u'Laura', u'Edna', u'Mary'] and  2\n",
      "[u'Laura', u'Eva', u'Maxine', u'Anna'] and  3\n",
      "[u'Laura', u'Eva', u'Marion', u'Lena'] and  3\n",
      "[u'Laura', u'Edna', u'Betty', u'Hilda', u'Ruth'] and  4\n",
      "[u'Laura', u'Eva', u'Helen', u'Jean', u'Cora'] and  4\n",
      "[u'Laura', u'Edna'] and  1\n",
      "[u'Laura', u'Edna', u'Betty', u'Hilda'] and  3\n",
      "[u'Laura', u'Edna', u'Ellen', u'Ella'] and  3\n",
      "[u'Laura', u'Edna', u'Betty', u'Hilda', u'Hazel'] and  4\n",
      "[u'Laura', u'Eva', u'Frances'] and  2\n",
      "[u'Laura', u'Eva', u'Marion'] and  2\n",
      "[u'Laura', u'Eva', u'Helen'] and  2\n",
      "[u'Laura', u'Edna', u'Adele'] and  2\n",
      "[u'Laura', u'Edna', u'Ellen', u'Irene'] and  3\n",
      "[u'Laura', u'Eva', u'Robin'] and  2\n",
      "[u'Laura', u'Edna', u'Betty'] and  2\n",
      "Marion has  25 paths\n",
      "[u'Marion', u'Louise'] and  1\n",
      "[u'Marion', u'Eva'] and  1\n",
      "[u'Marion', u'Eva', u'Alice'] and  2\n",
      "[u'Marion', u'Eva', u'Maxine'] and  2\n",
      "[u'Marion', u'Adele', u'Edna', u'Ellen'] and  3\n",
      "[u'Marion', u'Louise', u'Ada'] and  2\n",
      "[u'Marion', u'Adele', u'Jane'] and  2\n",
      "[u'Marion', u'Eva', u'Helen', u'Jean'] and  3\n",
      "[u'Marion', u'Martha'] and  1\n",
      "[u'Marion', u'Adele', u'Edna', u'Mary'] and  3\n",
      "[u'Marion', u'Lena', u'Anna'] and  2\n",
      "[u'Marion', u'Lena'] and  1\n",
      "[u'Marion', u'Adele', u'Jane', u'Ruth'] and  3\n",
      "[u'Marion', u'Louise', u'Ada', u'Cora'] and  3\n",
      "[u'Marion', u'Adele', u'Edna'] and  2\n",
      "[u'Marion', u'Lena', u'Anna', u'Hazel', u'Hilda'] and  4\n",
      "[u'Marion', u'Eva', u'Helen', u'Ella'] and  3\n",
      "[u'Marion', u'Lena', u'Anna', u'Hazel'] and  3\n",
      "[u'Marion', u'Frances'] and  1\n",
      "[u'Marion', u'Eva', u'Laura'] and  2\n",
      "[u'Marion', u'Adele'] and  1\n",
      "[u'Marion', u'Eva', u'Helen'] and  2\n",
      "[u'Marion', u'Adele', u'Edna', u'Ellen', u'Irene'] and  4\n",
      "[u'Marion', u'Eva', u'Robin'] and  2\n",
      "[u'Marion', u'Adele', u'Edna', u'Betty'] and  3\n",
      "Irene has  25 paths\n",
      "[u'Irene', u'Ellen', u'Anna', u'Lena', u'Louise'] and  4\n",
      "[u'Irene', u'Ellen', u'Anna', u'Maxine', u'Eva'] and  4\n",
      "[u'Irene', u'Ellen', u'Anna', u'Martha', u'Alice'] and  4\n",
      "[u'Irene', u'Ellen', u'Anna', u'Maxine'] and  3\n",
      "[u'Irene', u'Ellen'] and  1\n",
      "[u'Irene', u'Ellen', u'Anna', u'Lena', u'Louise', u'Ada'] and  5\n",
      "[u'Irene', u'Hilda', u'Ruth', u'Jane'] and  3\n",
      "[u'Irene', u'Ellen', u'Ella', u'Helen', u'Jean'] and  4\n",
      "[u'Irene', u'Ellen', u'Anna', u'Martha'] and  3\n",
      "[u'Irene', u'Ellen', u'Edna', u'Mary'] and  3\n",
      "[u'Irene', u'Ellen', u'Anna'] and  2\n",
      "[u'Irene', u'Ellen', u'Anna', u'Lena'] and  3\n",
      "[u'Irene', u'Hilda', u'Ruth'] and  2\n",
      "[u'Irene', u'Ellen', u'Ella', u'Helen', u'Jean', u'Cora'] and  5\n",
      "[u'Irene', u'Ellen', u'Edna'] and  2\n",
      "[u'Irene', u'Hilda'] and  1\n",
      "[u'Irene', u'Ellen', u'Ella'] and  2\n",
      "[u'Irene', u'Hilda', u'Hazel'] and  2\n",
      "[u'Irene', u'Ellen', u'Edna', u'Adele', u'Frances'] and  4\n",
      "[u'Irene', u'Ellen', u'Edna', u'Laura'] and  3\n",
      "[u'Irene', u'Ellen', u'Anna', u'Lena', u'Marion'] and  4\n",
      "[u'Irene', u'Ellen', u'Ella', u'Helen'] and  3\n",
      "[u'Irene', u'Ellen', u'Edna', u'Adele'] and  3\n",
      "[u'Irene', u'Ellen', u'Ella', u'Helen', u'Robin'] and  4\n",
      "[u'Irene', u'Hilda', u'Betty'] and  2\n"
     ]
    }
   ],
   "source": [
    "Pt=0 #to add path lengths\n",
    "t=0 #counting paths\n",
    "for node in G2.nodes():\n",
    "    paths = nx.shortest_path(G2,node).values()\n",
    "    print node, \"has \",len(paths)-1,\"paths\"\n",
    "    for x in range(0, len(paths)):\n",
    "       #print paths[x], \"and \", len(paths[x])-1\n",
    "       pt= len(paths[x])-1\n",
    "       if pt>0:\n",
    "          Pt+=pt\n",
    "          t=t+1  \n",
    "          print paths[x], \"and \", len(paths[x])-1"
   ]
  },
  {
   "cell_type": "code",
   "execution_count": 80,
   "metadata": {
    "collapsed": false
   },
   "outputs": [
    {
     "data": {
      "text/plain": [
       "1824"
      ]
     },
     "execution_count": 80,
     "metadata": {},
     "output_type": "execute_result"
    }
   ],
   "source": [
    "Pt"
   ]
  },
  {
   "cell_type": "code",
   "execution_count": 81,
   "metadata": {
    "collapsed": false
   },
   "outputs": [
    {
     "data": {
      "text/plain": [
       "26"
      ]
     },
     "execution_count": 81,
     "metadata": {},
     "output_type": "execute_result"
    }
   ],
   "source": [
    "len(paths[:])"
   ]
  },
  {
   "cell_type": "markdown",
   "metadata": {
    "collapsed": false
   },
   "source": [
    "<p>1. How do you calculate the average degree of a directed graph with the number of links and the number of nodes of \n",
    "the graph and how do you calculate the average degree of an undirected graph with the number of links and number of\n",
    "nodes from the graph.</p>"
   ]
  },
  {
   "cell_type": "code",
   "execution_count": 82,
   "metadata": {
    "collapsed": false
   },
   "outputs": [
    {
     "name": "stdout",
     "output_type": "stream",
     "text": [
      "Using the network, G, from earlier cells as an example\n",
      "Average Degree of directed graph = 2.0\n",
      "Using the network, G2, from earlier cells as an example\n",
      "Average Degree of undirected graph = 3.23076923077\n"
     ]
    }
   ],
   "source": [
    "print \"Using the network, G, from earlier cells as an example\"\n",
    "print \"Average Degree of directed graph = \"+str(float(G.number_of_edges())/\n",
    "                                              G.number_of_nodes())\n",
    "print \"Using the network, G2, from earlier cells as an example\"\n",
    "print \"Average Degree of undirected graph = \"+str(float(2*G2.number_of_edges())/\n",
    "                                              G2.number_of_nodes())\n",
    "# note that conversion to float was necessary so that the division \n",
    "# does not round to integer precision."
   ]
  },
  {
   "cell_type": "markdown",
   "metadata": {},
   "source": [
    "<p>2. What is the in degree, out degree and and degree of Marion in the original graph? And what is the degree of Marion\n",
    "in the undirected representation?</p>"
   ]
  },
  {
   "cell_type": "code",
   "execution_count": 83,
   "metadata": {
    "collapsed": false
   },
   "outputs": [
    {
     "name": "stdout",
     "output_type": "stream",
     "text": [
      "In degree of Marion (directed graph):  6\n",
      "Out degree of Marion (directed graph):  2\n",
      "Degree of Marion in directed graph:  8\n",
      "Degree of Marion in undirected graph:  6\n"
     ]
    }
   ],
   "source": [
    "print \"In degree of Marion (directed graph): \", g.in_degree('Marion')\n",
    "print \"Out degree of Marion (directed graph): \",g.out_degree('Marion')\n",
    "print \"Degree of Marion in directed graph: \",g.degree('Marion')\n",
    "#Undirected graph\n",
    "print \"Degree of Marion in undirected graph: \",G2.degree('Marion')\n"
   ]
  },
  {
   "cell_type": "code",
   "execution_count": 84,
   "metadata": {
    "collapsed": false
   },
   "outputs": [
    {
     "data": {
      "text/plain": [
       "2.806153846153846"
      ]
     },
     "execution_count": 84,
     "metadata": {},
     "output_type": "execute_result"
    }
   ],
   "source": [
    "1.0*Pt/(26*25)"
   ]
  },
  {
   "cell_type": "code",
   "execution_count": 87,
   "metadata": {
    "collapsed": false
   },
   "outputs": [
    {
     "data": {
      "text/plain": [
       "2.806153846153846"
      ]
     },
     "execution_count": 87,
     "metadata": {},
     "output_type": "execute_result"
    }
   ],
   "source": [
    "nx.average_shortest_path_length(G2)"
   ]
  },
  {
   "cell_type": "code",
   "execution_count": 88,
   "metadata": {
    "collapsed": false
   },
   "outputs": [
    {
     "data": {
      "text/plain": [
       "650"
      ]
     },
     "execution_count": 88,
     "metadata": {},
     "output_type": "execute_result"
    }
   ],
   "source": [
    "t"
   ]
  },
  {
   "cell_type": "code",
   "execution_count": 89,
   "metadata": {
    "collapsed": false
   },
   "outputs": [
    {
     "data": {
      "text/plain": [
       "650"
      ]
     },
     "execution_count": 89,
     "metadata": {},
     "output_type": "execute_result"
    }
   ],
   "source": [
    "26*25"
   ]
  },
  {
   "cell_type": "code",
   "execution_count": null,
   "metadata": {
    "collapsed": true
   },
   "outputs": [],
   "source": []
  },
  {
   "cell_type": "code",
   "execution_count": null,
   "metadata": {
    "collapsed": true
   },
   "outputs": [],
   "source": []
  }
 ],
 "metadata": {
  "anaconda-cloud": {},
  "kernelspec": {
   "display_name": "Python [default]",
   "language": "python",
   "name": "python2"
  },
  "language_info": {
   "codemirror_mode": {
    "name": "ipython",
    "version": 2
   },
   "file_extension": ".py",
   "mimetype": "text/x-python",
   "name": "python",
   "nbconvert_exporter": "python",
   "pygments_lexer": "ipython2",
   "version": "2.7.12"
  }
 },
 "nbformat": 4,
 "nbformat_minor": 0
}
