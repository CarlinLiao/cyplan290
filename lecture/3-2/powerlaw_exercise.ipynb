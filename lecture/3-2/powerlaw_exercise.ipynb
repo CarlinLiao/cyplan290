{
 "cells": [
  {
   "cell_type": "markdown",
   "metadata": {},
   "source": [
    "### Powerlaw distribution"
   ]
  },
  {
   "cell_type": "markdown",
   "metadata": {},
   "source": [
    "Power laws are probability distributions of the form:\n",
    "$$ f(x) \\propto x^{-\\alpha}$$\n",
    "with $x_0 < x < \\infty$, and are characterized by a ''heavy tail'' behavior, meaning that the high values of $x$ still carry a lot of mass of the distriution. In some cases the tails can be so heavy that the variance of the distribution goes to infinity ($\\alpha < 3$), or even the expected value itself goes to infinity ($\\alpha < 2$). We must have $\\alpha>1$ or the pdf does not exist.\n",
    "\n",
    "$$E(X) \\propto \\int_{0}^{\\infty} x^{-\\alpha+1}dx=\\left. \\frac{x^{-\\alpha+2}}{-\\alpha+2} \\right|_{0}^{\\infty}$$\n",
    "\n",
    "The lower the value of $\\alpha$, the heavier the tails of the distribution."
   ]
  },
  {
   "cell_type": "markdown",
   "metadata": {},
   "source": [
    "As an example, the following code plots a powerlaw distribution for $0.1 < x < 1$. **It will let you play with the $\\alpha$ parameter to see how the tail of the distribution changes**. The red dot corresponds to the expected value of $X$. Note what happens when you decrease below $\\alpha=2$."
   ]
  },
  {
   "cell_type": "code",
   "execution_count": 1,
   "metadata": {
    "collapsed": false
   },
   "outputs": [
    {
     "data": {
      "image/png": "[encoded data removed]",
      "text/plain": [
       "<matplotlib.figure.Figure at 0x7f88c3cbbb50>"
      ]
     },
     "metadata": {},
     "output_type": "display_data"
    },
    {
     "data": {
      "text/plain": [
       "<function __main__.pl>"
      ]
     },
     "execution_count": 1,
     "metadata": {},
     "output_type": "execute_result"
    }
   ],
   "source": [
    "import numpy as np\n",
    "%matplotlib inline\n",
    "import matplotlib.pyplot as plt \n",
    "from IPython.html.widgets import interact\n",
    "def pl(a):\n",
    "    x0=0.1\n",
    "    dx=0.1\n",
    "    X=np.arange(x0+0.5*dx,10000,dx)\n",
    "    N=-x0**(1-a)/(1-a)\n",
    "    P=[]\n",
    "    for x in X:\n",
    "        xi=x-0.5*dx\n",
    "        xf=x+0.5*dx\n",
    "        P.append((xf**(-a+1)-xi**(-a+1))/(N*(1-a)))\n",
    "    P=np.array(P)\n",
    "    plt.xlim(0.1, 1)\n",
    "    plt.ylim(0,0.3)\n",
    "    plt.plot(X,P)\n",
    "    plt.plot([sum(X*P)],0.05,'ro')\n",
    "interact(pl,a=(1.1,3))"
   ]
  },
  {
   "cell_type": "markdown",
   "metadata": {},
   "source": [
    "When plotting the pdf of a powerlaw distribution on a loglog scale, it has a very recognizable form\n",
    "\n",
    "$$\\log f(x) = b-\\alpha \\log x$$\n",
    "\n",
    "This is the reason why it is very easy to spot a powerlaw distribution on a loglog scale; it is a straight line with negative slope.\n",
    "\n",
    "The cdf also is linear in loglog scale, with a negative slope ($\\alpha>1$)\n",
    "\n",
    "$$ \\log F(x) = \\tilde b -(\\alpha-1) \\log x$$"
   ]
  },
  {
   "cell_type": "markdown",
   "metadata": {},
   "source": [
    "### Degree distribution"
   ]
  },
  {
   "cell_type": "markdown",
   "metadata": {},
   "source": [
    "We must first load the data and use it to create a network using networkx. This way we can use the package to easily calculate the degree of each node.\n",
    "\n",
    "We do so by implementing the funcion *makeNetworkFromFiles* that returns a graph from files *fedged* and *fnodes*."
   ]
  },
  {
   "cell_type": "code",
   "execution_count": 2,
   "metadata": {
    "collapsed": false
   },
   "outputs": [],
   "source": [
    "import numpy as np\n",
    "%matplotlib inline\n",
    "import matplotlib.pyplot as plt \n",
    "import networkx as nx\n",
    "import pandas as pd\n",
    "import powerlaw\n",
    "import networkx as nx\n",
    "import matplotlib.pyplot as plt\n",
    "import itertools\n",
    "colors = itertools.cycle(['r','g','b','c','y','m','k']) \n",
    "linestyles = itertools.cycle(['--',':','-.'])\n",
    "markers = itertools.cycle(['o','s','v'])\n"
   ]
  },
  {
   "cell_type": "markdown",
   "metadata": {},
   "source": [
    "## Function that creates degree distribution and plots it"
   ]
  },
  {
   "cell_type": "code",
   "execution_count": 3,
   "metadata": {
    "collapsed": true
   },
   "outputs": [],
   "source": [
    "def getDegreeDistribution(G):\n",
    "  degs = dict(nx.degree(G)).values()\n",
    "  kav=np.mean(degs);\n",
    "  print \"Average degree = \",kav\n",
    "  dk=(max(degs)-min(degs))/100.\n",
    "  #dk=2\n",
    "  dhist= np.arange(min(degs), max(degs),dk);\n",
    "  n, bins = np.histogram(degs,dhist, normed=\"True\",density=\"True\")\n",
    "  Pk=np.array([]);\n",
    "  k=np.array([]);\n",
    "  #######Eliminates zeros\n",
    "  for i in range(len(n)):\n",
    "     if n[i]>0:\n",
    "        k = np.append(k,bins[i])\n",
    "        Pk = np.append(Pk,n[i]*dk)\n",
    "  #########################        \n",
    "  #print \"k: \",len(k)\n",
    "  #print \"Pk: \",len(Pk)\n",
    "  return k, Pk       "
   ]
  },
  {
   "cell_type": "markdown",
   "metadata": {},
   "source": [
    "# Plot the Degree Distribution for 3 networks of different size of the BA model and save also the value of the clustering coefficient Cvec and te shortest path Length Lvec"
   ]
  },
  {
   "cell_type": "code",
   "execution_count": 4,
   "metadata": {
    "collapsed": false
   },
   "outputs": [],
   "source": [
    "Nvec=np.array([300,900,1200])\n",
    "m=4;\n",
    "kvec=np.array([]);\n",
    "Pkvec=np.array([]);\n",
    "Cvec=np.array([]);\n",
    "Lvec=np.array([]);"
   ]
  },
  {
   "cell_type": "markdown",
   "metadata": {},
   "source": [
    "Now that we have the vector of degrees, we can use the powerlaw package. First of all we plot the pdf of the degree distribution. Plotting a pdf requires in general the binning of the data, moreover when presenting the pdf using logarithmic axis the bins must have a logarithmic spacing. \n",
    "\n",
    "The logarithmic binning is particularly usefull when fitting a powerlaw to the data, since observing the occurrences becomes less and less likely as the variable increases.\n",
    "\n",
    "To illustrate this point we show the pdf of the degree of the previously chosen data, using linear and logarithmic binnings. Note what happens for large values of the variable in the linear binning."
   ]
  },
  {
   "cell_type": "code",
   "execution_count": 5,
   "metadata": {
    "collapsed": false
   },
   "outputs": [
    {
     "name": "stdout",
     "output_type": "stream",
     "text": [
      "300\n",
      "The average clustering coeficient is  0.0812231346829\n",
      "The average shortest path length is  2.78938684504\n",
      "Average degree =  7.89333333333\n",
      "900\n",
      "The average clustering coeficient is  0.039347855027\n",
      "The average shortest path length is  3.14920528983\n",
      "Average degree =  7.96444444444\n",
      "1200\n",
      "The average clustering coeficient is  0.0308998590545\n",
      "The average shortest path length is  3.25838754518\n",
      "Average degree =  7.97333333333\n"
     ]
    },
    {
     "data": {
      "image/png": "[encoded data removed]",
      "text/plain": [
       "<matplotlib.figure.Figure at 0x7f88e13a12d0>"
      ]
     },
     "metadata": {},
     "output_type": "display_data"
    },
    {
     "data": {
      "image/png": "[encoded data removed]",
      "text/plain": [
       "<matplotlib.figure.Figure at 0x7f88aaac7110>"
      ]
     },
     "metadata": {},
     "output_type": "display_data"
    },
    {
     "data": {
      "image/png": "[encoded data removed]",
      "text/plain": [
       "<matplotlib.figure.Figure at 0x7f88aaab5410>"
      ]
     },
     "metadata": {},
     "output_type": "display_data"
    }
   ],
   "source": [
    "for i in range(len(Nvec)):\n",
    "    kvec=np.array([]);\n",
    "    pk=np.array([]);\n",
    "    k=10.\n",
    "    p=k/(Nvec[i]-1)\n",
    "    #print p\n",
    "    G = nx.barabasi_albert_graph(Nvec[i],m)\n",
    "    #G = nx.watts_strogatz_graph(Nvec[i],2*m,0.1)\n",
    "    #G =nx.fast_gnp_random_graph(Nvec[i],p)\n",
    "    print Nvec[i]\n",
    "    print \"The average clustering coeficient is \",nx.average_clustering(G)\n",
    "    print \"The average shortest path length is \",nx.average_shortest_path_length(G)\n",
    "    Cvec= np.append(Cvec,nx.average_clustering(G))\n",
    "    Lvec=np.append(Lvec,nx.average_shortest_path_length(G))\n",
    "    plt.figure(1+i)\n",
    "    kvec, Pk =getDegreeDistribution(G)\n",
    "    degs = dict(nx.degree(G)).values()\n",
    "    plt.xlabel('degree, k')\n",
    "    plt.ylabel('P(k)')\n",
    "    plt.scatter(kvec,Pk,marker=markers.next(),label='N=%d' %Nvec[len(Nvec)-1])\n",
    "    #print Cvec"
   ]
  },
  {
   "cell_type": "code",
   "execution_count": 6,
   "metadata": {
    "collapsed": false
   },
   "outputs": [
    {
     "data": {
      "text/plain": [
       "array([ 0.08122313,  0.03934786,  0.03089986])"
      ]
     },
     "execution_count": 6,
     "metadata": {},
     "output_type": "execute_result"
    }
   ],
   "source": [
    "Cvec"
   ]
  },
  {
   "cell_type": "markdown",
   "metadata": {},
   "source": [
    "# Plot the Clustering Coefficient"
   ]
  },
  {
   "cell_type": "code",
   "execution_count": 7,
   "metadata": {
    "collapsed": false
   },
   "outputs": [
    {
     "data": {
      "image/png": "[encoded data removed]",
      "text/plain": [
       "<matplotlib.figure.Figure at 0x7f88aa68a510>"
      ]
     },
     "metadata": {},
     "output_type": "display_data"
    }
   ],
   "source": [
    "plt.figure(2)\n",
    "plt.loglog(Nvec,Cvec, 'ro', label='C(N), data')\n",
    "#plt.loglog(Nvec,np.mean(degs)/Nvec, 'k-',linewidth=2.0, label='<k>/N')\n",
    "plt.legend(loc='lower left')\n",
    "plt.xlabel('size, N')\n",
    "plt.ylabel('<C>')\n",
    "plt.savefig('ClustCoeff.png')"
   ]
  },
  {
   "cell_type": "markdown",
   "metadata": {},
   "source": [
    "## Plot Plot the shortest path length"
   ]
  },
  {
   "cell_type": "code",
   "execution_count": null,
   "metadata": {
    "collapsed": false
   },
   "outputs": [
    {
     "data": {
      "image/png": "[encoded data removed]",
      "text/plain": [
       "<matplotlib.figure.Figure at 0x7f88aa641e90>"
      ]
     },
     "metadata": {},
     "output_type": "display_data"
    }
   ],
   "source": [
    "plt.figure(3)\n",
    "plt.loglog(Nvec,Lvec, 'ro', label='l(N), data')\n",
    "#plt.loglog(Nvec,np.log(Nvec)/np.log(np.mean(degs)), 'k-',linewidth=2.0, label='log(N)/log(<k>)')\n",
    "plt.legend(loc='upper left')\n",
    "plt.xlabel('size, N')\n",
    "plt.ylabel('<l>')\n",
    "plt.savefig('ShortestPath.png')"
   ]
  },
  {
   "cell_type": "markdown",
   "metadata": {},
   "source": [
    "## Comparing Scale-Free and Random Networks"
   ]
  },
  {
   "cell_type": "code",
   "execution_count": null,
   "metadata": {
    "collapsed": false
   },
   "outputs": [],
   "source": [
    "m = 5\n",
    "bal = np.array([])\n",
    "randl = np.array([])\n",
    "Ns3 = (100,200,300,400,500,600,700,800,900,1000,1250,1500,1750,2000)\n",
    "for i in xrange(len(Ns3)):\n",
    "    baG = nx.barabasi_albert_graph(Ns3[i],m)\n",
    "    # Create a random graph with same number of edges as Barabasi-Albert Graph\n",
    "    randG = nx.gnm_random_graph(Ns3[i],nx.number_of_edges(baG))\n",
    "    bal = np.append(bal,nx.average_shortest_path_length(baG))\n",
    "    if nx.is_connected(randG):\n",
    "        randl = np.append(randl,nx.average_shortest_path_length(randG))\n",
    "    else:\n",
    "        randl = np.append(randl,0)\n",
    "\n",
    "plt.semilogx(Ns3,bal,'bo',label='Barabasi-Albert')\n",
    "plt.semilogx(Ns3,randl,'rs',label='Random Graph')\n",
    "plt.title('Average Shortest Path Length')\n",
    "plt.xlabel('# of nodes, N')\n",
    "plt.ylabel('Average shortest path length, l')\n",
    "plt.legend(loc='upper left')"
   ]
  },
  {
   "cell_type": "markdown",
   "metadata": {},
   "source": [
    "## Path Length to the Rest of the Network"
   ]
  },
  {
   "cell_type": "code",
   "execution_count": null,
   "metadata": {
    "collapsed": false
   },
   "outputs": [],
   "source": [
    "m = 5\n",
    "baG = nx.barabasi_albert_graph(1000,m)\n",
    "# Create a random graph with same number of edges as Barabasi-Albert Graph\n",
    "randG = nx.gnm_random_graph(1000,nx.number_of_edges(baG))\n",
    "\n",
    "# Create a dictionary of (node degree, average path length to rest of network) pairs\n",
    "baTargets = {};\n",
    "for node in nx.nodes(baG):\n",
    "    degree = nx.degree(baG, nbunch=node)\n",
    "    if degree not in baTargets.keys():\n",
    "        total_path_length = 0\n",
    "        lengths = nx.single_source_shortest_path_length(baG, node)\n",
    "        average_path_length = sum(lengths.values())/float(len(lengths))\n",
    "        baTargets[degree] = average_path_length\n",
    "        \n",
    "# Do the same for the random graphs\n",
    "randTargets = {};\n",
    "for node in nx.nodes(randG):\n",
    "    degree = nx.degree(randG, nbunch=node)\n",
    "    if degree not in randTargets.keys():\n",
    "        total_path_length = 0\n",
    "        lengths = nx.single_source_shortest_path_length(randG, node)\n",
    "        average_path_length = sum(lengths.values())/float(len(lengths))\n",
    "        randTargets[degree] = average_path_length\n",
    "\n",
    "plt.plot(baTargets.keys(), baTargets.values(), 'bo', label='Barabasi-Albert Graph')\n",
    "plt.plot(randTargets.keys(), randTargets.values(), 'rs', label='Random Graph')\n",
    "plt.xlabel('Degree of Target Node, k_target')\n",
    "plt.ylabel('Average Shortest Path Length to Target Node, <d_target>')\n",
    "plt.title('Distance to Target Nodes for Scale-Free and Random Graphs')\n",
    "plt.legend(loc='upper right')\n",
    "plt.show()"
   ]
  },
  {
   "cell_type": "code",
   "execution_count": null,
   "metadata": {
    "collapsed": true
   },
   "outputs": [],
   "source": []
  }
 ],
 "metadata": {
  "anaconda-cloud": {},
  "kernelspec": {
   "display_name": "Python 2",
   "language": "python",
   "name": "python2"
  },
  "language_info": {
   "codemirror_mode": {
    "name": "ipython",
    "version": 2
   },
   "file_extension": ".py",
   "mimetype": "text/x-python",
   "name": "python",
   "nbconvert_exporter": "python",
   "pygments_lexer": "ipython2",
   "version": "2.7.14"
  },
  "widgets": {
   "state": {
    "6a600eaeabd24df48dc458100ca5bb58": {
     "views": [
      {
       "cell_index": 3
      }
     ]
    }
   },
   "version": "1.2.0"
  }
 },
 "nbformat": 4,
 "nbformat_minor": 2
}
