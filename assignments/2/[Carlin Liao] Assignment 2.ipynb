{
 "cells": [
  {
   "cell_type": "markdown",
   "metadata": {},
   "source": [
    "# Urban Systems and Network Science\n",
    "\n",
    "# Spring 2018\n",
    "\n",
    "# Problem Set 2: Networks Models and Data Representation"
   ]
  },
  {
   "cell_type": "code",
   "execution_count": 1,
   "metadata": {},
   "outputs": [],
   "source": [
    "import networkx as nx\n",
    "import matplotlib.pyplot as plt\n",
    "import numpy as np\n",
    "\n",
    "comm_list = [40, 41, 50]\n",
    "\n",
    "g = {}\n",
    "for comm in comm_list:\n",
    "    g[comm] = nx.read_pajek('comm' + str(comm) + '.net.paj')"
   ]
  },
  {
   "cell_type": "markdown",
   "metadata": {},
   "source": [
    "## Problem 1: Social Network Analysis\n",
    "In the SchoolsData.zip\n",
    "\n",
    "Every student was given a paper-and-pencil questionnaire and a copy of a list with every schoolmate. Weighted dyadic links were generated based on the number of sheared activities. Weights were in the range from 1, meaning the student nominated the friend without reporting any activity, to 6 meaning that the student nominated the friend and reported participating in five activities with (him/her). Answer the following questions\n",
    "\n",
    "### 1. How many nodes and links are there in each network? (0.5 pts.)"
   ]
  },
  {
   "cell_type": "code",
   "execution_count": 2,
   "metadata": {},
   "outputs": [
    {
     "name": "stdout",
     "output_type": "stream",
     "text": [
      "Nodes in comm40: 2044\n",
      "Links in comm40: 10498\n",
      "Nodes in comm41: 2107\n",
      "Links in comm41: 10513\n",
      "Nodes in comm50: 2594\n",
      "Links in comm50: 12979\n"
     ]
    }
   ],
   "source": [
    "for comm in comm_list:\n",
    "    print 'Nodes in comm' + str(comm) + ': ' + str(len(g[comm].nodes))\n",
    "    print 'Links in comm' + str(comm) + ': ' + str(len(g[comm].edges))"
   ]
  },
  {
   "cell_type": "markdown",
   "metadata": {},
   "source": [
    "### 2. What is the average degree of each network? (0.5 pts.)"
   ]
  },
  {
   "cell_type": "code",
   "execution_count": 3,
   "metadata": {},
   "outputs": [
    {
     "name": "stdout",
     "output_type": "stream",
     "text": [
      "Average degree of comm40: 10.272015655577299\n",
      "Average degree of comm41: 9.979117228286663\n",
      "Average degree of comm50: 10.006939090208173\n"
     ]
    }
   ],
   "source": [
    "for comm in comm_list:\n",
    "    print 'Average degree of comm' + str(comm) + ': ' + str(np.mean(dict(g[comm].degree).values()))"
   ]
  },
  {
   "cell_type": "markdown",
   "metadata": {},
   "source": [
    "### 3. Calculate the in-degree of each node. What is the largest in-degree in each networks? (1 pt.)"
   ]
  },
  {
   "cell_type": "code",
   "execution_count": 4,
   "metadata": {},
   "outputs": [
    {
     "name": "stdout",
     "output_type": "stream",
     "text": [
      "Largest in-degree of comm40: 33\n",
      "Largest in-degree of comm41: 28\n",
      "Largest in-degree of comm50: 27\n"
     ]
    }
   ],
   "source": [
    "indegrees = {}\n",
    "for comm in comm_list:\n",
    "    indegrees[comm] = dict(g[comm].in_degree(g[comm].nodes))\n",
    "    print 'Largest in-degree of comm' + str(comm) + ': ' + str(np.max(indegrees[comm].values()))"
   ]
  },
  {
   "cell_type": "markdown",
   "metadata": {},
   "source": [
    "### 4. Calculate the out-degree of each node. What is the largest out-degree in each network? (1 pt.)"
   ]
  },
  {
   "cell_type": "code",
   "execution_count": 5,
   "metadata": {},
   "outputs": [
    {
     "name": "stdout",
     "output_type": "stream",
     "text": [
      "Largest out-degree of comm40: 10\n",
      "Largest out-degree of comm41: 10\n",
      "Largest out-degree of comm50: 10\n"
     ]
    }
   ],
   "source": [
    "outdegrees = {}\n",
    "for comm in comm_list:\n",
    "    outdegrees[comm] = dict(g[comm].out_degree(g[comm].nodes))\n",
    "    print 'Largest out-degree of comm' + str(comm) + ': ' + str(np.max(outdegrees[comm].values()))"
   ]
  },
  {
   "cell_type": "markdown",
   "metadata": {},
   "source": [
    "### 5. Read the data as an undirected graph and calculate the average degree of each network (2 pts.)"
   ]
  },
  {
   "cell_type": "code",
   "execution_count": 6,
   "metadata": {},
   "outputs": [
    {
     "name": "stdout",
     "output_type": "stream",
     "text": [
      "Average degree of undirected comm40: 8.347358121330725\n",
      "Average degree of undirected comm41: 8.212624584717608\n",
      "Average degree of undirected comm50: 8.065535851966075\n"
     ]
    }
   ],
   "source": [
    "g_undirected = {}\n",
    "for comm in comm_list:\n",
    "    g_undirected[comm] = nx.Graph(g[comm])\n",
    "    print 'Average degree of undirected comm' + str(comm) + ': ' + str(np.mean(dict(g_undirected[comm].degree).values()))"
   ]
  },
  {
   "cell_type": "markdown",
   "metadata": {},
   "source": [
    "## Problem 2: Compare the School Network with Small World and Random Graphs models (10 pts)\n",
    "\n",
    "### 1. What is the value of p in the RG generate similar average degree with the same number of Nodes? (1pt)"
   ]
  },
  {
   "cell_type": "code",
   "execution_count": 7,
   "metadata": {},
   "outputs": [
    {
     "name": "stdout",
     "output_type": "stream",
     "text": [
      "p-value of comm40 if RG: 0.005025447972395939\n",
      "p-value of comm41 if RG: 0.00473617334043031\n",
      "p-value of comm50 if RG: 0.0038577251697024567\n"
     ]
    }
   ],
   "source": [
    "for comm in comm_list:\n",
    "    p_RG = np.mean(dict(g[comm].degree).values())/len(g[comm].nodes) # p = <k>/N\n",
    "    print 'p-value of comm' + str(comm) + ' if RG: ' + str(p_RG)"
   ]
  },
  {
   "cell_type": "code",
   "execution_count": 8,
   "metadata": {},
   "outputs": [
    {
     "name": "stdout",
     "output_type": "stream",
     "text": [
      "p-value of undirected comm40 if RG: 0.004083834697324229\n",
      "p-value of undirected comm41 if RG: 0.0038977810084089262\n",
      "p-value of undirected comm50 if RG: 0.0031093044918913165\n"
     ]
    }
   ],
   "source": [
    "for comm in comm_list:\n",
    "    p_RG = np.mean(dict(g_undirected[comm].degree).values())/len(g_undirected[comm].nodes) # p = <k>/N\n",
    "    print 'p-value of undirected comm' + str(comm) + ' if RG: ' + str(p_RG)"
   ]
  },
  {
   "cell_type": "markdown",
   "metadata": {},
   "source": [
    "### 2. What is the value of p in the Watts and Strogatz graph to generate the desired value of the average degree and Clustering Coefficient with the same number of Nodes? (1pt)"
   ]
  },
  {
   "cell_type": "code",
   "execution_count": 9,
   "metadata": {},
   "outputs": [
    {
     "name": "stdout",
     "output_type": "stream",
     "text": [
      "p-value of undirected comm40 if W&G: 0.39552520150972625\n",
      "p-value of undirected comm41 if W&G: 0.4021403301374471\n",
      "p-value of undirected comm50 if W&G: 0.3936169988542547\n"
     ]
    }
   ],
   "source": [
    "for comm in comm_list:\n",
    "    k_avg = np.mean(dict(g_undirected[comm].degree).values())\n",
    "    C_0 = (3*(k_avg-2))/(4*(k_avg-1)) # (3*(<k>-2))/(4*(<k>-1))\n",
    "    C_p = nx.average_clustering(g_undirected[comm])\n",
    "    p_SW = 1 - np.cbrt(C_p/C_0) # p = 1-(C_p/C_0)^(1/3)\n",
    "    print 'p-value of undirected comm' + str(comm) + ' if W&G: ' + str(p_SW)"
   ]
  },
  {
   "cell_type": "markdown",
   "metadata": {},
   "source": [
    "### 3. Fill the following table with the properties the networks (3pts)"
   ]
  },
  {
   "cell_type": "code",
   "execution_count": 10,
   "metadata": {},
   "outputs": [
    {
     "name": "stdout",
     "output_type": "stream",
     "text": [
      "comm40\n",
      "\n",
      "School Data\n",
      "<C>: 0.143105937938\n",
      "<k>: 8.347358121330725\n",
      "  N: 2044\n",
      "  E: 10498\n",
      "\n",
      "Random Graph\n",
      "<C>: 0.00455674190997\n",
      "<k>: 8.347358121330725\n",
      "  E: 8595\n",
      "  p: 0.004083834697324229\n",
      "\n",
      "Small World\n",
      "<C>: 0.154960483092\n",
      "<k>: 8.347358121330725\n",
      "  E: 8176\n",
      "  p: 0.39552520150972625\n",
      "\n",
      "\n",
      "\n",
      "\n",
      "comm41\n",
      "\n",
      "School Data\n",
      "<C>: 0.138051401638\n",
      "<k>: 8.212624584717608\n",
      "  N: 2107\n",
      "  E: 10513\n",
      "\n",
      "Random Graph\n",
      "<C>: 0.00413783747978\n",
      "<k>: 8.212624584717608\n",
      "  E: 8451\n",
      "  p: 0.0038977810084089262\n",
      "\n",
      "Small World\n",
      "<C>: 0.141390769227\n",
      "<k>: 8.212624584717608\n",
      "  E: 8428\n",
      "  p: 0.4021403301374471\n",
      "\n",
      "\n",
      "\n",
      "\n",
      "comm50\n",
      "\n",
      "School Data\n",
      "<C>: 0.143557665537\n",
      "<k>: 8.065535851966075\n",
      "  N: 2594\n",
      "  E: 12979\n",
      "\n",
      "Random Graph\n",
      "<C>: 0.00269053781867\n",
      "<k>: 8.065535851966075\n",
      "  E: 10560\n",
      "  p: 0.0031093044918913165\n",
      "\n",
      "Small World\n",
      "<C>: 0.145734959806\n",
      "<k>: 8.065535851966075\n",
      "  E: 10376\n",
      "  p: 0.3936169988542547\n",
      "\n",
      "\n",
      "\n",
      "\n"
     ]
    }
   ],
   "source": [
    "rg = {}\n",
    "sw = {}\n",
    "for comm in comm_list:\n",
    "    print 'comm' + str(comm) + '\\n'\n",
    "    print 'School Data'\n",
    "    print '<C>: ' + str(nx.average_clustering(g_undirected[comm]))\n",
    "    k = np.mean(dict(g_undirected[comm].degree).values())\n",
    "    print '<k>: ' + str(k)\n",
    "    N = len(g[comm].nodes)\n",
    "    print '  N: ' + str(N)\n",
    "    print '  E: ' + str(len(g[comm].edges))\n",
    "    p_rg = k/N\n",
    "    rg[comm] = nx.fast_gnp_random_graph(N,p_rg)\n",
    "    print '\\nRandom Graph'\n",
    "    print '<C>: ' + str(nx.average_clustering(rg[comm]))\n",
    "    print '<k>: ' + str(N*p_rg)\n",
    "    print '  E: ' + str(len(rg[comm].edges))\n",
    "    print '  p: ' + str(p_rg)\n",
    "    C_0 = (3*(k-2))/(4*(k-1)) # (3*(<k>-2))/(4*(<k>-1))\n",
    "    C_p = nx.average_clustering(g_undirected[comm])\n",
    "    p_sw = 1 - np.cbrt(C_p/C_0) # p = 1-(C_p/C_0)^(1/3)\n",
    "    sw[comm] = nx.watts_strogatz_graph(N,int(k),p_sw)\n",
    "    print '\\nSmall World'\n",
    "    print '<C>: ' + str(nx.average_clustering(sw[comm]))\n",
    "    print '<k>: ' + str(k)\n",
    "    print '  E: ' + str(len(sw[comm].edges))\n",
    "    print '  p: ' + str(p_sw)\n",
    "    print '\\n\\n\\n'"
   ]
  },
  {
   "cell_type": "markdown",
   "metadata": {},
   "source": [
    "| Network\t\t| Avg ClusCoeff\t| Avg K  \t| Nodes  \t| Links  \t| p \t|\n",
    "|-:\t\t\t\t|-:\t\t\t\t|-:\t\t\t|-:\t\t\t|-:\t\t\t|-:\t\t|\n",
    "| School Data 1\t| 0.143  \t\t| 8.347  \t| 2044 \t\t| 10498  \t| N/A \t|\n",
    "| Random Graph\t| 0.004 \t\t| 8.347 \t| 2044  \t| 8649  \t| 0.004 |\n",
    "| Small World\t| 0.150  \t\t| 8.347  \t| 2044  \t| 8176  \t| 0.396 |\n",
    "\n",
    "| Network\t\t| Avg ClusCoeff\t| Avg K  \t| Nodes  \t| Links  \t| p \t|\n",
    "|-:\t\t\t\t|-:\t\t\t\t|-:\t\t\t|-:\t\t\t|-:\t\t\t|-:\t\t|\n",
    "| School Data 2\t| 0.138  \t\t| 8.213  \t| 2107 \t\t| 12979  \t| N/A \t|\n",
    "| Random Graph\t| 0.003 \t\t| 8.213 \t| 2107  \t| 8492  \t| 0.004 |\n",
    "| Small World\t| 0.146  \t\t| 8.213  \t| 2107  \t| 8428  \t| 0.402 |\n",
    "\n",
    "| Network\t\t| Avg ClusCoeff\t| Avg K  \t| Nodes  \t| Links  \t| p \t|\n",
    "|-:\t\t\t\t|-:\t\t\t\t|-:\t\t\t|-:\t\t\t|-:\t\t\t|-:\t\t|\n",
    "| School Data 3\t| 0.144  \t\t| 8.066  \t| 2594 \t\t| 10498  \t| N/A \t|\n",
    "| Random Graph\t| 0.003 \t\t| 8.066 \t| 2594  \t| 10403  \t| 0.003 |\n",
    "| Small World\t| 0.147  \t\t| 8.066  \t| 2594  \t| 10376  \t| 0.394 |"
   ]
  },
  {
   "cell_type": "markdown",
   "metadata": {},
   "source": [
    "### 4. Which of the 2 models have properties more similar to the social network from the data? Why? (3pts)\n",
    "\n",
    "Judging from comparisons of the average clustering coefficients between the data networks and the two models, for a fixed k and node count, small-world appears to be much more similar to the school data than the random graph model. Intuitively this makes sense because an individual's friends are very likely to be friends with each other as in the small-world model and unlike the random-graph model.\n",
    "\n",
    "\n",
    "### 5. In the same Figure, Plot the Degree Distribution of the three Networks (2pts)"
   ]
  },
  {
   "cell_type": "code",
   "execution_count": 11,
   "metadata": {},
   "outputs": [
    {
     "data": {
      "image/png": "[encoded data removed]",
      "text/plain": [
       "<matplotlib.figure.Figure at 0x7f9421aa5850>"
      ]
     },
     "metadata": {},
     "output_type": "display_data"
    },
    {
     "data": {
      "image/png": "[encoded data removed]",
      "text/plain": [
       "<matplotlib.figure.Figure at 0x7f941dbc9d10>"
      ]
     },
     "metadata": {},
     "output_type": "display_data"
    },
    {
     "data": {
      "image/png": "[encoded data removed]",
      "text/plain": [
       "<matplotlib.figure.Figure at 0x7f9415d28690>"
      ]
     },
     "metadata": {},
     "output_type": "display_data"
    }
   ],
   "source": [
    "import collections\n",
    "\n",
    "for comm in comm_list:\n",
    "    fig, (ax1, ax2, ax3) = plt.subplots(3, 1, sharey=True, sharex=True)\n",
    "    \n",
    "    # data\n",
    "    degreeCount = collections.Counter(sorted([d for n, d in g_undirected[comm].degree()], reverse=True))\n",
    "    d, c = zip(*degreeCount.items())\n",
    "    ax1.bar(d, c, label='School Data')\n",
    "    ax1.legend()\n",
    "    ax1.set_title('Degree Distribution for comm' + str(comm))\n",
    "    \n",
    "    # random graph\n",
    "    degreeCount = collections.Counter(sorted([d for n, d in rg[comm].degree()], reverse=True))\n",
    "    d, c = zip(*degreeCount.items())\n",
    "    ax2.bar(d, c, label='Random Graph')\n",
    "    ax2.legend()\n",
    "    \n",
    "    # small world\n",
    "    degreeCount = collections.Counter(sorted([d for n, d in sw[comm].degree()], reverse=True))\n",
    "    d, c = zip(*degreeCount.items())\n",
    "    ax3.bar(d, c, label='Small World')\n",
    "    ax3.legend()\n",
    "    \n",
    "    plt.xlabel('Node degree')\n",
    "    plt.show()"
   ]
  }
 ],
 "metadata": {
  "kernelspec": {
   "display_name": "Python 2",
   "language": "python",
   "name": "python2"
  },
  "language_info": {
   "codemirror_mode": {
    "name": "ipython",
    "version": 2
   },
   "file_extension": ".py",
   "mimetype": "text/x-python",
   "name": "python",
   "nbconvert_exporter": "python",
   "pygments_lexer": "ipython2",
   "version": "2.7.14"
  }
 },
 "nbformat": 4,
 "nbformat_minor": 2
}
